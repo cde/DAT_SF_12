{
 "metadata": {
  "name": "",
  "signature": "sha256:95bd650e93ede80573e2a80fa37e269394073145d4ca7e0685b763e52705487b"
 },
 "nbformat": 3,
 "nbformat_minor": 0,
 "worksheets": [
  {
   "cells": [
    {
     "cell_type": "heading",
     "level": 1,
     "metadata": {},
     "source": [
      "KNN sample"
     ]
    },
    {
     "cell_type": "markdown",
     "metadata": {},
     "source": [
      "http://blog.yhathq.com/posts/classification-using-knn-and-python.html"
     ]
    },
    {
     "cell_type": "code",
     "collapsed": false,
     "input": [
      "import pandas as pd\n",
      "import pylab as pl\n",
      "from sklearn.neighbors import KNeighborsClassifier\n",
      "\n",
      "\n",
      "import numpy as np"
     ],
     "language": "python",
     "metadata": {},
     "outputs": [],
     "prompt_number": 4
    },
    {
     "cell_type": "code",
     "collapsed": false,
     "input": [
      "df = pd.read_csv(\"https://s3.amazonaws.com/demo-datasets/wine.csv\")"
     ],
     "language": "python",
     "metadata": {},
     "outputs": [],
     "prompt_number": 2
    },
    {
     "cell_type": "code",
     "collapsed": false,
     "input": [
      "np.random.uniform(0,1, len(df))<=0.3"
     ],
     "language": "python",
     "metadata": {},
     "outputs": [
      {
       "metadata": {},
       "output_type": "pyout",
       "prompt_number": 22,
       "text": [
        "array([False, False, False, ..., False, False, False], dtype=bool)"
       ]
      }
     ],
     "prompt_number": 22
    },
    {
     "cell_type": "code",
     "collapsed": false,
     "input": [
      "test_idx = np.random.uniform(0, 1, len(df)) <= 0.3\n",
      "test_idx"
     ],
     "language": "python",
     "metadata": {},
     "outputs": [
      {
       "metadata": {},
       "output_type": "pyout",
       "prompt_number": 25,
       "text": [
        "array([False, False, False, ..., False, False, False], dtype=bool)"
       ]
      }
     ],
     "prompt_number": 25
    },
    {
     "cell_type": "code",
     "collapsed": false,
     "input": [
      "train = df[test_idx==True]\n",
      "test = df[test_idx==False]"
     ],
     "language": "python",
     "metadata": {},
     "outputs": [],
     "prompt_number": 18
    },
    {
     "cell_type": "code",
     "collapsed": false,
     "input": [
      "#We're going to use density, sulphates, and residual_sugar to predict color.\n",
      "features = ['density', 'sulphates', 'residual_sugar']"
     ],
     "language": "python",
     "metadata": {},
     "outputs": [],
     "prompt_number": 13
    },
    {
     "cell_type": "code",
     "collapsed": false,
     "input": [
      "len(test)"
     ],
     "language": "python",
     "metadata": {},
     "outputs": [
      {
       "metadata": {},
       "output_type": "pyout",
       "prompt_number": 43,
       "text": [
        "4506"
       ]
      }
     ],
     "prompt_number": 43
    },
    {
     "cell_type": "code",
     "collapsed": false,
     "input": [
      "results = []\n",
      "for n in range(1, 51, 2):\n",
      "    clf = KNeighborsClassifier(n_neighbors=n)\n",
      "    clf.fit(train[features], train['high_quality'])\n",
      "    preds = clf.predict(test[features])\n",
      "    #print preds\n",
      "    #print np.where(preds==test['high_quality'], 1, 0).sum() / float(len(test))\n",
      "#     print\"len(preds):%d len(test['high_quality']):%d\" % (len(preds),len(test['high_quality']) )\n",
      "    #print np.where(preds==test['high_quality'], 1, 0).sum()\n",
      "    #print float(len(test))\n",
      "    accuracy = np.where(preds==test['high_quality'], 1, 0).sum() / float(len(test))\n",
      "    #print \"Neighbors: %d, Accuracy: %3f\" % (n, accuracy)\n",
      " \n",
      "    results.append([n, accuracy])\n",
      " \n",
      "results = pd.DataFrame(results, columns=[\"n\", \"accuracy\"])\n",
      "pl.plot(results.n, results.accuracy)\n",
      "#pl.title(\"Accuracy with Increasing K\")\n",
      "#pl.show()"
     ],
     "language": "python",
     "metadata": {},
     "outputs": []
    },
    {
     "cell_type": "code",
     "collapsed": false,
     "input": [],
     "language": "python",
     "metadata": {},
     "outputs": []
    }
   ],
   "metadata": {}
  }
 ]
}