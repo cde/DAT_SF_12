{
 "metadata": {
  "name": "",
  "signature": "sha256:7037c4279151888dd9acd252af0adf56fc9ac4e59f0d80d1ec966155a96524d9"
 },
 "nbformat": 3,
 "nbformat_minor": 0,
 "worksheets": [
  {
   "cells": [
    {
     "cell_type": "heading",
     "level": 1,
     "metadata": {},
     "source": [
      "Supervised Classification\n"
     ]
    },
    {
     "cell_type": "markdown",
     "metadata": {},
     "source": [
      "We already know the labels we are attempting to classify."
     ]
    },
    {
     "cell_type": "code",
     "collapsed": false,
     "input": [
      "%matplotlib inline\n",
      "import pandas as pd\n",
      "import numpy as np\n",
      "from seaborn import plt\n",
      "from sklearn.datasets import load_iris\n",
      "\n",
      "iris = load_iris()\n",
      "df = pd.DataFrame(iris.data, columns=iris.feature_names)\n",
      "df['species'] = [iris.target_names[x] for x in iris.target]\n",
      "df.head(10)"
     ],
     "language": "python",
     "metadata": {},
     "outputs": [
      {
       "html": [
        "<div style=\"max-height:1000px;max-width:1500px;overflow:auto;\">\n",
        "<table border=\"1\" class=\"dataframe\">\n",
        "  <thead>\n",
        "    <tr style=\"text-align: right;\">\n",
        "      <th></th>\n",
        "      <th>sepal length (cm)</th>\n",
        "      <th>sepal width (cm)</th>\n",
        "      <th>petal length (cm)</th>\n",
        "      <th>petal width (cm)</th>\n",
        "      <th>species</th>\n",
        "    </tr>\n",
        "  </thead>\n",
        "  <tbody>\n",
        "    <tr>\n",
        "      <th>0</th>\n",
        "      <td> 5.1</td>\n",
        "      <td> 3.5</td>\n",
        "      <td> 1.4</td>\n",
        "      <td> 0.2</td>\n",
        "      <td> setosa</td>\n",
        "    </tr>\n",
        "    <tr>\n",
        "      <th>1</th>\n",
        "      <td> 4.9</td>\n",
        "      <td> 3.0</td>\n",
        "      <td> 1.4</td>\n",
        "      <td> 0.2</td>\n",
        "      <td> setosa</td>\n",
        "    </tr>\n",
        "    <tr>\n",
        "      <th>2</th>\n",
        "      <td> 4.7</td>\n",
        "      <td> 3.2</td>\n",
        "      <td> 1.3</td>\n",
        "      <td> 0.2</td>\n",
        "      <td> setosa</td>\n",
        "    </tr>\n",
        "    <tr>\n",
        "      <th>3</th>\n",
        "      <td> 4.6</td>\n",
        "      <td> 3.1</td>\n",
        "      <td> 1.5</td>\n",
        "      <td> 0.2</td>\n",
        "      <td> setosa</td>\n",
        "    </tr>\n",
        "    <tr>\n",
        "      <th>4</th>\n",
        "      <td> 5.0</td>\n",
        "      <td> 3.6</td>\n",
        "      <td> 1.4</td>\n",
        "      <td> 0.2</td>\n",
        "      <td> setosa</td>\n",
        "    </tr>\n",
        "    <tr>\n",
        "      <th>5</th>\n",
        "      <td> 5.4</td>\n",
        "      <td> 3.9</td>\n",
        "      <td> 1.7</td>\n",
        "      <td> 0.4</td>\n",
        "      <td> setosa</td>\n",
        "    </tr>\n",
        "    <tr>\n",
        "      <th>6</th>\n",
        "      <td> 4.6</td>\n",
        "      <td> 3.4</td>\n",
        "      <td> 1.4</td>\n",
        "      <td> 0.3</td>\n",
        "      <td> setosa</td>\n",
        "    </tr>\n",
        "    <tr>\n",
        "      <th>7</th>\n",
        "      <td> 5.0</td>\n",
        "      <td> 3.4</td>\n",
        "      <td> 1.5</td>\n",
        "      <td> 0.2</td>\n",
        "      <td> setosa</td>\n",
        "    </tr>\n",
        "    <tr>\n",
        "      <th>8</th>\n",
        "      <td> 4.4</td>\n",
        "      <td> 2.9</td>\n",
        "      <td> 1.4</td>\n",
        "      <td> 0.2</td>\n",
        "      <td> setosa</td>\n",
        "    </tr>\n",
        "    <tr>\n",
        "      <th>9</th>\n",
        "      <td> 4.9</td>\n",
        "      <td> 3.1</td>\n",
        "      <td> 1.5</td>\n",
        "      <td> 0.1</td>\n",
        "      <td> setosa</td>\n",
        "    </tr>\n",
        "  </tbody>\n",
        "</table>\n",
        "</div>"
       ],
       "metadata": {},
       "output_type": "pyout",
       "prompt_number": 1,
       "text": [
        "   sepal length (cm)  sepal width (cm)  petal length (cm)  petal width (cm)  \\\n",
        "0                5.1               3.5                1.4               0.2   \n",
        "1                4.9               3.0                1.4               0.2   \n",
        "2                4.7               3.2                1.3               0.2   \n",
        "3                4.6               3.1                1.5               0.2   \n",
        "4                5.0               3.6                1.4               0.2   \n",
        "5                5.4               3.9                1.7               0.4   \n",
        "6                4.6               3.4                1.4               0.3   \n",
        "7                5.0               3.4                1.5               0.2   \n",
        "8                4.4               2.9                1.4               0.2   \n",
        "9                4.9               3.1                1.5               0.1   \n",
        "\n",
        "  species  \n",
        "0  setosa  \n",
        "1  setosa  \n",
        "2  setosa  \n",
        "3  setosa  \n",
        "4  setosa  \n",
        "5  setosa  \n",
        "6  setosa  \n",
        "7  setosa  \n",
        "8  setosa  \n",
        "9  setosa  "
       ]
      }
     ],
     "prompt_number": 1
    },
    {
     "cell_type": "code",
     "collapsed": false,
     "input": [
      "#independent variables\n",
      "print iris.feature_names"
     ],
     "language": "python",
     "metadata": {},
     "outputs": [
      {
       "output_type": "stream",
       "stream": "stdout",
       "text": [
        "['sepal length (cm)', 'sepal width (cm)', 'petal length (cm)', 'petal width (cm)']\n"
       ]
      }
     ],
     "prompt_number": 3
    },
    {
     "cell_type": "code",
     "collapsed": false,
     "input": [
      "#class labels\n",
      "print iris.target_names\n"
     ],
     "language": "python",
     "metadata": {},
     "outputs": [
      {
       "output_type": "stream",
       "stream": "stdout",
       "text": [
        "['setosa' 'versicolor' 'virginica']\n"
       ]
      }
     ],
     "prompt_number": 4
    },
    {
     "cell_type": "code",
     "collapsed": false,
     "input": [
      "%matplotlib inline\n",
      "from __future__ import division\n",
      "import pandas as pd\n",
      "import numpy as np\n",
      "from seaborn import plt\n",
      "from sklearn.datasets import load_iris\n",
      "\n",
      "load_iris?"
     ],
     "language": "python",
     "metadata": {},
     "outputs": [],
     "prompt_number": 12
    },
    {
     "cell_type": "code",
     "collapsed": false,
     "input": [
      "from matplotlib.colors import ListedColormap\n",
      "from sklearn import neighbors, datasets, feature_selection\n",
      "from sklearn.cross_validation import train_test_split, cross_val_score"
     ],
     "language": "python",
     "metadata": {},
     "outputs": [],
     "prompt_number": 13
    },
    {
     "cell_type": "code",
     "collapsed": false,
     "input": [
      "# Various variables we'll need to set intially.\n",
      "# range 1 to 51, skipping 2\n",
      "# odd number to avoid possibilities of a tie\n",
      "n_neighbors = range(1, 51, 2)"
     ],
     "language": "python",
     "metadata": {},
     "outputs": [],
     "prompt_number": 14
    },
    {
     "cell_type": "code",
     "collapsed": false,
     "input": [
      "# Load in the data\n",
      "iris = datasets.load_iris()\n",
      "iris_df = pd.DataFrame(iris.data, columns=iris.feature_names)\n",
      "iris_df.describe()"
     ],
     "language": "python",
     "metadata": {},
     "outputs": [
      {
       "html": [
        "<div style=\"max-height:1000px;max-width:1500px;overflow:auto;\">\n",
        "<table border=\"1\" class=\"dataframe\">\n",
        "  <thead>\n",
        "    <tr style=\"text-align: right;\">\n",
        "      <th></th>\n",
        "      <th>sepal length (cm)</th>\n",
        "      <th>sepal width (cm)</th>\n",
        "      <th>petal length (cm)</th>\n",
        "      <th>petal width (cm)</th>\n",
        "    </tr>\n",
        "  </thead>\n",
        "  <tbody>\n",
        "    <tr>\n",
        "      <th>count</th>\n",
        "      <td> 150.000000</td>\n",
        "      <td> 150.000000</td>\n",
        "      <td> 150.000000</td>\n",
        "      <td> 150.000000</td>\n",
        "    </tr>\n",
        "    <tr>\n",
        "      <th>mean</th>\n",
        "      <td>   5.843333</td>\n",
        "      <td>   3.054000</td>\n",
        "      <td>   3.758667</td>\n",
        "      <td>   1.198667</td>\n",
        "    </tr>\n",
        "    <tr>\n",
        "      <th>std</th>\n",
        "      <td>   0.828066</td>\n",
        "      <td>   0.433594</td>\n",
        "      <td>   1.764420</td>\n",
        "      <td>   0.763161</td>\n",
        "    </tr>\n",
        "    <tr>\n",
        "      <th>min</th>\n",
        "      <td>   4.300000</td>\n",
        "      <td>   2.000000</td>\n",
        "      <td>   1.000000</td>\n",
        "      <td>   0.100000</td>\n",
        "    </tr>\n",
        "    <tr>\n",
        "      <th>25%</th>\n",
        "      <td>   5.100000</td>\n",
        "      <td>   2.800000</td>\n",
        "      <td>   1.600000</td>\n",
        "      <td>   0.300000</td>\n",
        "    </tr>\n",
        "    <tr>\n",
        "      <th>50%</th>\n",
        "      <td>   5.800000</td>\n",
        "      <td>   3.000000</td>\n",
        "      <td>   4.350000</td>\n",
        "      <td>   1.300000</td>\n",
        "    </tr>\n",
        "    <tr>\n",
        "      <th>75%</th>\n",
        "      <td>   6.400000</td>\n",
        "      <td>   3.300000</td>\n",
        "      <td>   5.100000</td>\n",
        "      <td>   1.800000</td>\n",
        "    </tr>\n",
        "    <tr>\n",
        "      <th>max</th>\n",
        "      <td>   7.900000</td>\n",
        "      <td>   4.400000</td>\n",
        "      <td>   6.900000</td>\n",
        "      <td>   2.500000</td>\n",
        "    </tr>\n",
        "  </tbody>\n",
        "</table>\n",
        "</div>"
       ],
       "metadata": {},
       "output_type": "pyout",
       "prompt_number": 15,
       "text": [
        "       sepal length (cm)  sepal width (cm)  petal length (cm)  \\\n",
        "count         150.000000        150.000000         150.000000   \n",
        "mean            5.843333          3.054000           3.758667   \n",
        "std             0.828066          0.433594           1.764420   \n",
        "min             4.300000          2.000000           1.000000   \n",
        "25%             5.100000          2.800000           1.600000   \n",
        "50%             5.800000          3.000000           4.350000   \n",
        "75%             6.400000          3.300000           5.100000   \n",
        "max             7.900000          4.400000           6.900000   \n",
        "\n",
        "       petal width (cm)  \n",
        "count        150.000000  \n",
        "mean           1.198667  \n",
        "std            0.763161  \n",
        "min            0.100000  \n",
        "25%            0.300000  \n",
        "50%            1.300000  \n",
        "75%            1.800000  \n",
        "max            2.500000  "
       ]
      }
     ],
     "prompt_number": 15
    },
    {
     "cell_type": "code",
     "collapsed": false,
     "input": [
      "# Create the training (and test) set using scikit-learn's train_test_split function\n",
      "X_train, X_test, y_train, y_test = train_test_split(iris.data, iris.target, test_size=0.3, random_state=8)"
     ],
     "language": "python",
     "metadata": {},
     "outputs": [],
     "prompt_number": 12
    },
    {
     "cell_type": "code",
     "collapsed": false,
     "input": [
      "#Model of breaking apart data for train, test, and output\n",
      "# the scores\n",
      "scores = []\n",
      "for n in n_neighbors:\n",
      "    clf = neighbors.KNeighborsClassifier(n)\n",
      "    clf.fit(X_train, y_train) # training graphic\n",
      "    scores.append(clf.score(X_test, y_test)) #test graphic "
     ],
     "language": "python",
     "metadata": {},
     "outputs": [],
     "prompt_number": 13
    },
    {
     "cell_type": "code",
     "collapsed": false,
     "input": [
      "plt.figure(figsize=(18,6))\n",
      "_ = plt.plot(n_neighbors, scores, linewidth=3.0)"
     ],
     "language": "python",
     "metadata": {},
     "outputs": [
      {
       "metadata": {},
       "output_type": "display_data",
       "png": "[encoded data removed]",
       "text": [
        "<matplotlib.figure.Figure at 0x10a685250>"
       ]
      }
     ],
     "prompt_number": 14
    },
    {
     "cell_type": "code",
     "collapsed": false,
     "input": [
      "#K=7"
     ],
     "language": "python",
     "metadata": {},
     "outputs": []
    },
    {
     "cell_type": "code",
     "collapsed": false,
     "input": [
      "from sklearn.cross_validation import cross_val_score\n",
      "clf = neighbors.KNeighborsClassifier(7, weights='uniform') #k=7\n",
      "scores = cross_val_score(clf, iris_df.values, iris.target, cv=5)\n",
      "print scores"
     ],
     "language": "python",
     "metadata": {},
     "outputs": [
      {
       "output_type": "stream",
       "stream": "stdout",
       "text": [
        "[ 0.96666667  1.          0.96666667  0.96666667  1.        ]\n"
       ]
      }
     ],
     "prompt_number": 15
    },
    {
     "cell_type": "code",
     "collapsed": false,
     "input": [
      "np.mean(scores)"
     ],
     "language": "python",
     "metadata": {},
     "outputs": [
      {
       "metadata": {},
       "output_type": "pyout",
       "prompt_number": 16,
       "text": [
        "0.98000000000000009"
       ]
      }
     ],
     "prompt_number": 16
    },
    {
     "cell_type": "code",
     "collapsed": false,
     "input": [
      "# Below returns highest signifiance for features 2 and 3\n",
      "# (remember, Python uses index 0). \n",
      "n = np.arange(len(iris.feature_names))\n",
      "\n",
      "fig = plt.figure(figsize=(18,6))\n",
      "ax = fig.add_subplot(111)\n",
      "\n",
      "ax.bar(n, feature_selection.f_classif(iris.data, iris.target)[0])\n",
      "xtickNames = ax.set_xticklabels(iris.feature_names)\n",
      "\n",
      "ax.set_xticks(n)\n",
      "_ = plt.setp(xtickNames, rotation=45, fontsize=16)"
     ],
     "language": "python",
     "metadata": {},
     "outputs": [
      {
       "metadata": {},
       "output_type": "display_data",
       "png": "[encoded data removed]",
       "text": [
        "<matplotlib.figure.Figure at 0x10cdd7ed0>"
       ]
      }
     ],
     "prompt_number": 25
    },
    {
     "cell_type": "code",
     "collapsed": false,
     "input": [
      "clf = neighbors.KNeighborsClassifier(8, weights='uniform')"
     ],
     "language": "python",
     "metadata": {},
     "outputs": [],
     "prompt_number": 26
    },
    {
     "cell_type": "code",
     "collapsed": false,
     "input": [
      "#clf"
     ],
     "language": "python",
     "metadata": {},
     "outputs": [],
     "prompt_number": 30
    },
    {
     "cell_type": "code",
     "collapsed": false,
     "input": [
      "clf.fit(iris.data[:, 2:4], iris.target)"
     ],
     "language": "python",
     "metadata": {},
     "outputs": [
      {
       "metadata": {},
       "output_type": "pyout",
       "prompt_number": 29,
       "text": [
        "KNeighborsClassifier(algorithm='auto', leaf_size=30, metric='minkowski',\n",
        "           metric_params=None, n_neighbors=8, p=2, weights='uniform')"
       ]
      }
     ],
     "prompt_number": 29
    },
    {
     "cell_type": "code",
     "collapsed": false,
     "input": [
      "h = .02  # step size in the mesh\n",
      "# Create color maps\n",
      "cmap_light = ListedColormap(['#FFAAAA', '#AAFFAA', '#AAAAFF'])\n",
      "cmap_bold = ListedColormap(['#FF0000', '#00FF00', '#0000FF'])"
     ],
     "language": "python",
     "metadata": {},
     "outputs": [],
     "prompt_number": 31
    },
    {
     "cell_type": "code",
     "collapsed": false,
     "input": [
      "# Plot the decision boundary. For that, we will assign a color to each\n",
      "# point in the mesh [x_min, m_max]x[y_min, y_max].\n",
      "x_min, y_min = iris_df.min()[['petal length (cm)', 'petal width (cm)']]\n",
      "x_max, y_max = iris_df.max()[['petal length (cm)', 'petal width (cm)']]"
     ],
     "language": "python",
     "metadata": {},
     "outputs": [],
     "prompt_number": 32
    },
    {
     "cell_type": "code",
     "collapsed": false,
     "input": [
      "xx, yy = np.meshgrid(np.arange(x_min, x_max, h), np.arange(y_min, y_max, h))"
     ],
     "language": "python",
     "metadata": {},
     "outputs": [],
     "prompt_number": 33
    },
    {
     "cell_type": "code",
     "collapsed": false,
     "input": [
      "Z = clf.predict(np.c_[xx.ravel(), yy.ravel()])"
     ],
     "language": "python",
     "metadata": {},
     "outputs": [],
     "prompt_number": 34
    },
    {
     "cell_type": "code",
     "collapsed": false,
     "input": [
      "Z"
     ],
     "language": "python",
     "metadata": {},
     "outputs": [
      {
       "metadata": {},
       "output_type": "pyout",
       "prompt_number": 36,
       "text": [
        "array([0, 0, 0, ..., 2, 2, 2])"
       ]
      }
     ],
     "prompt_number": 36
    },
    {
     "cell_type": "code",
     "collapsed": false,
     "input": [
      "# Put the result into a color plot\n",
      "Z = Z.reshape(xx.shape)"
     ],
     "language": "python",
     "metadata": {},
     "outputs": [],
     "prompt_number": 37
    },
    {
     "cell_type": "code",
     "collapsed": false,
     "input": [
      "Z"
     ],
     "language": "python",
     "metadata": {},
     "outputs": [
      {
       "metadata": {},
       "output_type": "pyout",
       "prompt_number": 38,
       "text": [
        "array([[0, 0, 0, ..., 2, 2, 2],\n",
        "       [0, 0, 0, ..., 2, 2, 2],\n",
        "       [0, 0, 0, ..., 2, 2, 2],\n",
        "       ..., \n",
        "       [0, 0, 0, ..., 2, 2, 2],\n",
        "       [0, 0, 0, ..., 2, 2, 2],\n",
        "       [0, 0, 0, ..., 2, 2, 2]])"
       ]
      }
     ],
     "prompt_number": 38
    },
    {
     "cell_type": "code",
     "collapsed": false,
     "input": [
      "plt.figure(figsize=(18,6))\n",
      "plt.pcolormesh(xx, yy, Z, cmap=cmap_light)"
     ],
     "language": "python",
     "metadata": {},
     "outputs": [
      {
       "metadata": {},
       "output_type": "pyout",
       "prompt_number": 39,
       "text": [
        "<matplotlib.collections.QuadMesh at 0x10cca8f10>"
       ]
      },
      {
       "metadata": {},
       "output_type": "display_data",
       "png": "[encoded data removed]",
       "text": [
        "<matplotlib.figure.Figure at 0x10cf8ee50>"
       ]
      }
     ],
     "prompt_number": 39
    },
    {
     "cell_type": "code",
     "collapsed": false,
     "input": [
      "# Plot also the training points\n",
      "plt.figure(figsize=(18,6))\n",
      "plt.pcolormesh(xx, yy, Z, cmap=cmap_light)\n",
      "plt.scatter(iris_df['petal length (cm)'], iris_df['petal width (cm)'], c=iris.target, cmap=cmap_bold)\n",
      "plt.xlim(xx.min(), xx.max())\n",
      "plt.ylim(yy.min(), yy.max())\n",
      "plt.title(\"3-Class classification (k = {}, weights = '{}')\".format(clf.n_neighbors, clf.weights))"
     ],
     "language": "python",
     "metadata": {},
     "outputs": [
      {
       "metadata": {},
       "output_type": "pyout",
       "prompt_number": 40,
       "text": [
        "<matplotlib.text.Text at 0x110f227d0>"
       ]
      },
      {
       "metadata": {},
       "output_type": "display_data",
       "png": "[encoded data removed]",
       "text": [
        "<matplotlib.figure.Figure at 0x110ce2dd0>"
       ]
      }
     ],
     "prompt_number": 40
    },
    {
     "cell_type": "code",
     "collapsed": false,
     "input": [
      "iris_df.describe()"
     ],
     "language": "python",
     "metadata": {},
     "outputs": [
      {
       "html": [
        "<div style=\"max-height:1000px;max-width:1500px;overflow:auto;\">\n",
        "<table border=\"1\" class=\"dataframe\">\n",
        "  <thead>\n",
        "    <tr style=\"text-align: right;\">\n",
        "      <th></th>\n",
        "      <th>sepal length (cm)</th>\n",
        "      <th>sepal width (cm)</th>\n",
        "      <th>petal length (cm)</th>\n",
        "      <th>petal width (cm)</th>\n",
        "    </tr>\n",
        "  </thead>\n",
        "  <tbody>\n",
        "    <tr>\n",
        "      <th>count</th>\n",
        "      <td> 150.000000</td>\n",
        "      <td> 150.000000</td>\n",
        "      <td> 150.000000</td>\n",
        "      <td> 150.000000</td>\n",
        "    </tr>\n",
        "    <tr>\n",
        "      <th>mean</th>\n",
        "      <td>   5.843333</td>\n",
        "      <td>   3.054000</td>\n",
        "      <td>   3.758667</td>\n",
        "      <td>   1.198667</td>\n",
        "    </tr>\n",
        "    <tr>\n",
        "      <th>std</th>\n",
        "      <td>   0.828066</td>\n",
        "      <td>   0.433594</td>\n",
        "      <td>   1.764420</td>\n",
        "      <td>   0.763161</td>\n",
        "    </tr>\n",
        "    <tr>\n",
        "      <th>min</th>\n",
        "      <td>   4.300000</td>\n",
        "      <td>   2.000000</td>\n",
        "      <td>   1.000000</td>\n",
        "      <td>   0.100000</td>\n",
        "    </tr>\n",
        "    <tr>\n",
        "      <th>25%</th>\n",
        "      <td>   5.100000</td>\n",
        "      <td>   2.800000</td>\n",
        "      <td>   1.600000</td>\n",
        "      <td>   0.300000</td>\n",
        "    </tr>\n",
        "    <tr>\n",
        "      <th>50%</th>\n",
        "      <td>   5.800000</td>\n",
        "      <td>   3.000000</td>\n",
        "      <td>   4.350000</td>\n",
        "      <td>   1.300000</td>\n",
        "    </tr>\n",
        "    <tr>\n",
        "      <th>75%</th>\n",
        "      <td>   6.400000</td>\n",
        "      <td>   3.300000</td>\n",
        "      <td>   5.100000</td>\n",
        "      <td>   1.800000</td>\n",
        "    </tr>\n",
        "    <tr>\n",
        "      <th>max</th>\n",
        "      <td>   7.900000</td>\n",
        "      <td>   4.400000</td>\n",
        "      <td>   6.900000</td>\n",
        "      <td>   2.500000</td>\n",
        "    </tr>\n",
        "  </tbody>\n",
        "</table>\n",
        "</div>"
       ],
       "metadata": {},
       "output_type": "pyout",
       "prompt_number": 41,
       "text": [
        "       sepal length (cm)  sepal width (cm)  petal length (cm)  \\\n",
        "count         150.000000        150.000000         150.000000   \n",
        "mean            5.843333          3.054000           3.758667   \n",
        "std             0.828066          0.433594           1.764420   \n",
        "min             4.300000          2.000000           1.000000   \n",
        "25%             5.100000          2.800000           1.600000   \n",
        "50%             5.800000          3.000000           4.350000   \n",
        "75%             6.400000          3.300000           5.100000   \n",
        "max             7.900000          4.400000           6.900000   \n",
        "\n",
        "       petal width (cm)  \n",
        "count        150.000000  \n",
        "mean           1.198667  \n",
        "std            0.763161  \n",
        "min            0.100000  \n",
        "25%            0.300000  \n",
        "50%            1.300000  \n",
        "75%            1.800000  \n",
        "max            2.500000  "
       ]
      }
     ],
     "prompt_number": 41
    },
    {
     "cell_type": "code",
     "collapsed": false,
     "input": [
      "from sklearn.preprocessing import scale"
     ],
     "language": "python",
     "metadata": {},
     "outputs": [],
     "prompt_number": 42
    },
    {
     "cell_type": "code",
     "collapsed": false,
     "input": [
      "df_norm = pd.DataFrame(scale(iris.data), columns=iris.feature_names)"
     ],
     "language": "python",
     "metadata": {},
     "outputs": [],
     "prompt_number": 43
    },
    {
     "cell_type": "code",
     "collapsed": false,
     "input": [],
     "language": "python",
     "metadata": {},
     "outputs": []
    }
   ],
   "metadata": {}
  }
 ]
}