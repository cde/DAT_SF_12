{
 "metadata": {
  "name": "",
  "signature": "sha256:75e633ba1ad37dd2b6781adb05ce0657fe4e517916b102df8dba4e02d48f6550"
 },
 "nbformat": 3,
 "nbformat_minor": 0,
 "worksheets": [
  {
   "cells": [
    {
     "cell_type": "code",
     "collapsed": false,
     "input": [
      "# standard library:\n",
      "import os  \n",
      "\n",
      "from pprint import pprint"
     ],
     "language": "python",
     "metadata": {},
     "outputs": [],
     "prompt_number": 3
    },
    {
     "cell_type": "code",
     "collapsed": false,
     "input": [
      "# other modules:\n",
      "import matplotlib.pyplot as plt\n",
      "import pandas as pd\n",
      "import twitter\n",
      "import yaml\n",
      "\n",
      "from pymongo import MongoClient"
     ],
     "language": "python",
     "metadata": {},
     "outputs": [],
     "prompt_number": 5
    },
    {
     "cell_type": "heading",
     "level": 1,
     "metadata": {},
     "source": [
      "Twitter\n"
     ]
    },
    {
     "cell_type": "code",
     "collapsed": false,
     "input": [
      "credentials = yaml.load(open(os.path.expanduser('~/twitter_api_credentials.yml')))\n",
      "auth = twitter.oauth.OAuth(credentials['ACCESS_TOKEN'], \n",
      "                           credentials['ACCESS_TOKEN_SECRET'],\n",
      "                           credentials['API_KEY'],\n",
      "                           credentials['API_SECRET'])\n",
      "twitter_api = twitter.Twitter(auth=auth)\n",
      "twitter_api\n"
     ],
     "language": "python",
     "metadata": {},
     "outputs": [
      {
       "metadata": {},
       "output_type": "pyout",
       "prompt_number": 6,
       "text": [
        "<twitter.api.Twitter at 0x10a21a8d0>"
       ]
      }
     ],
     "prompt_number": 6
    },
    {
     "cell_type": "code",
     "collapsed": false,
     "input": [
      "# The Yahoo! Where On Earth ID for the entire world is 1.\n",
      "# See https://dev.twitter.com/docs/api/1.1/get/trends/place and\n",
      "# http://developer.yahoo.com/geo/geoplanet/\n",
      "\n",
      "WORLD_WOE_ID = 1\n",
      "US_WOE_ID = 23424977\n",
      "\n",
      "# Prefix ID with the underscore for query string parameterization.\n",
      "# Without the underscore, the twitter package appends the ID value\n",
      "# to the URL itself as a special case keyword argument.\n",
      "\n",
      "world_trends = twitter_api.trends.place(_id=WORLD_WOE_ID)\n",
      "us_trends = twitter_api.trends.place(_id=US_WOE_ID)\n",
      "\n",
      "pprint(world_trends)"
     ],
     "language": "python",
     "metadata": {},
     "outputs": [
      {
       "output_type": "stream",
       "stream": "stdout",
       "text": [
        "[{u'as_of': u'2015-02-09T20:00:55Z',\n",
        "  u'created_at': u'2015-02-09T19:58:26Z',\n",
        "  u'locations': [{u'name': u'Worldwide', u'woeid': 1}],\n",
        "  u'trends': [{u'name': u'#NationalPizzaDay',\n",
        "               u'promoted_content': None,\n",
        "               u'query': u'%23NationalPizzaDay',\n",
        "               u'url': u'http://twitter.com/search?q=%23NationalPizzaDay'},\n",
        "              {u'name': u'#\\u0634\\u0643\\u0631\\u0627_\\u0646\\u062c\\u0648\\u0645_\\u0627\\u0644\\u0639\\u0627\\u0644\\u0645\\u064a',\n",
        "               u'promoted_content': None,\n",
        "               u'query': u'%23%D8%B4%D9%83%D8%B1%D8%A7_%D9%86%D8%AC%D9%88%D9%85_%D8%A7%D9%84%D8%B9%D8%A7%D9%84%D9%85%D9%8A',\n",
        "               u'url': u'http://twitter.com/search?q=%23%D8%B4%D9%83%D8%B1%D8%A7_%D9%86%D8%AC%D9%88%D9%85_%D8%A7%D9%84%D8%B9%D8%A7%D9%84%D9%85%D9%8A'},\n",
        "              {u'name': u'Rasta Rocket',\n",
        "               u'promoted_content': None,\n",
        "               u'query': u'%22Rasta+Rocket%22',\n",
        "               u'url': u'http://twitter.com/search?q=%22Rasta+Rocket%22'},\n",
        "              {u'name': u'\\u0639\\u0645\\u0631 \\u0647\\u0648\\u0633\\u0627\\u0648\\u064a',\n",
        "               u'promoted_content': None,\n",
        "               u'query': u'%22%D8%B9%D9%85%D8%B1+%D9%87%D9%88%D8%B3%D8%A7%D9%88%D9%8A%22',\n",
        "               u'url': u'http://twitter.com/search?q=%22%D8%B9%D9%85%D8%B1+%D9%87%D9%88%D8%B3%D8%A7%D9%88%D9%8A%22'},\n",
        "              {u'name': u'#FUTStarsBenzema',\n",
        "               u'promoted_content': None,\n",
        "               u'query': u'%23FUTStarsBenzema',\n",
        "               u'url': u'http://twitter.com/search?q=%23FUTStarsBenzema'},\n",
        "              {u'name': u'#KavgayaVaktimizYok',\n",
        "               u'promoted_content': None,\n",
        "               u'query': u'%23KavgayaVaktimizYok',\n",
        "               u'url': u'http://twitter.com/search?q=%23KavgayaVaktimizYok'},\n",
        "              {u'name': u'#iyikido\\u011fdunleylailemecnun',\n",
        "               u'promoted_content': None,\n",
        "               u'query': u'%23iyikido%C4%9Fdunleylailemecnun',\n",
        "               u'url': u'http://twitter.com/search?q=%23iyikido%C4%9Fdunleylailemecnun'},\n",
        "              {u'name': u'Eski\\u015fehirspor 1-2 Galatasaray',\n",
        "               u'promoted_content': None,\n",
        "               u'query': u'%22Eski%C5%9Fehirspor+1-2+Galatasaray%22',\n",
        "               u'url': u'http://twitter.com/search?q=%22Eski%C5%9Fehirspor+1-2+Galatasaray%22'},\n",
        "              {u'name': u'G\\xfcndemYaapiilir 0537x206x18x4',\n",
        "               u'promoted_content': None,\n",
        "               u'query': u'%22G%C3%BCndemYaapiilir+0537x206x18x4%22',\n",
        "               u'url': u'http://twitter.com/search?q=%22G%C3%BCndemYaapiilir+0537x206x18x4%22'},\n",
        "              {u'name': u'AdamGibiHakemlikYap\\u0131n Sabr\\u0131m\\u0131z\\u0131Ta\\u015f\\u0131rmay\\u0131n',\n",
        "               u'promoted_content': None,\n",
        "               u'query': u'%22AdamGibiHakemlikYap%C4%B1n+Sabr%C4%B1m%C4%B1z%C4%B1Ta%C5%9F%C4%B1rmay%C4%B1n%22',\n",
        "               u'url': u'http://twitter.com/search?q=%22AdamGibiHakemlikYap%C4%B1n+Sabr%C4%B1m%C4%B1z%C4%B1Ta%C5%9F%C4%B1rmay%C4%B1n%22'}]}]\n"
       ]
      }
     ],
     "prompt_number": 8
    },
    {
     "cell_type": "code",
     "collapsed": false,
     "input": [
      "pprint(us_trends)"
     ],
     "language": "python",
     "metadata": {},
     "outputs": [
      {
       "output_type": "stream",
       "stream": "stdout",
       "text": [
        "[{u'as_of': u'2015-02-09T20:00:55Z',\n",
        "  u'created_at': u'2015-02-09T19:53:51Z',\n",
        "  u'locations': [{u'name': u'United States', u'woeid': 23424977}],\n",
        "  u'trends': [{u'name': u'#NationalPizzaDay',\n",
        "               u'promoted_content': None,\n",
        "               u'query': u'%23NationalPizzaDay',\n",
        "               u'url': u'http://twitter.com/search?q=%23NationalPizzaDay'},\n",
        "              {u'name': u'#VehicleABand',\n",
        "               u'promoted_content': None,\n",
        "               u'query': u'%23VehicleABand',\n",
        "               u'url': u'http://twitter.com/search?q=%23VehicleABand'},\n",
        "              {u'name': u'#Beck',\n",
        "               u'promoted_content': None,\n",
        "               u'query': u'%23Beck',\n",
        "               u'url': u'http://twitter.com/search?q=%23Beck'},\n",
        "              {u'name': u'Feminist Has Abortion Because Child Was a Boy',\n",
        "               u'promoted_content': None,\n",
        "               u'query': u'%22Feminist+Has+Abortion+Because+Child+Was+a+Boy%22',\n",
        "               u'url': u'http://twitter.com/search?q=%22Feminist+Has+Abortion+Because+Child+Was+a+Boy%22'},\n",
        "              {u'name': u'Jon Jay',\n",
        "               u'promoted_content': None,\n",
        "               u'query': u'%22Jon+Jay%22',\n",
        "               u'url': u'http://twitter.com/search?q=%22Jon+Jay%22'},\n",
        "              {u'name': u'#NHPC15',\n",
        "               u'promoted_content': None,\n",
        "               u'query': u'%23NHPC15',\n",
        "               u'url': u'http://twitter.com/search?q=%23NHPC15'},\n",
        "              {u'name': u'#ThankYouTanner',\n",
        "               u'promoted_content': None,\n",
        "               u'query': u'%23ThankYouTanner',\n",
        "               u'url': u'http://twitter.com/search?q=%23ThankYouTanner'},\n",
        "              {u'name': u'Vernon Adams',\n",
        "               u'promoted_content': None,\n",
        "               u'query': u'%22Vernon+Adams%22',\n",
        "               u'url': u'http://twitter.com/search?q=%22Vernon+Adams%22'},\n",
        "              {u'name': u'James Dolan',\n",
        "               u'promoted_content': None,\n",
        "               u'query': u'%22James+Dolan%22',\n",
        "               u'url': u'http://twitter.com/search?q=%22James+Dolan%22'},\n",
        "              {u'name': u'Dean Smith',\n",
        "               u'promoted_content': None,\n",
        "               u'query': u'%22Dean+Smith%22',\n",
        "               u'url': u'http://twitter.com/search?q=%22Dean+Smith%22'}]}]\n"
       ]
      }
     ],
     "prompt_number": 9
    },
    {
     "cell_type": "heading",
     "level": 2,
     "metadata": {},
     "source": [
      "Do any of these trends intersect?"
     ]
    },
    {
     "cell_type": "code",
     "collapsed": false,
     "input": [
      "world_trends_set = set([trend['name'] for trends in world_trends\n",
      "                        for trend in trends['trends']])"
     ],
     "language": "python",
     "metadata": {},
     "outputs": [],
     "prompt_number": 10
    },
    {
     "cell_type": "code",
     "collapsed": false,
     "input": [
      "for trends in world_trends:\n",
      "    for trend in trends['trends']:\n",
      "        print trend"
     ],
     "language": "python",
     "metadata": {},
     "outputs": [
      {
       "output_type": "stream",
       "stream": "stdout",
       "text": [
        "{u'url': u'http://twitter.com/search?q=%23NationalPizzaDay', u'query': u'%23NationalPizzaDay', u'name': u'#NationalPizzaDay', u'promoted_content': None}\n",
        "{u'url': u'http://twitter.com/search?q=%23%D8%B4%D9%83%D8%B1%D8%A7_%D9%86%D8%AC%D9%88%D9%85_%D8%A7%D9%84%D8%B9%D8%A7%D9%84%D9%85%D9%8A', u'query': u'%23%D8%B4%D9%83%D8%B1%D8%A7_%D9%86%D8%AC%D9%88%D9%85_%D8%A7%D9%84%D8%B9%D8%A7%D9%84%D9%85%D9%8A', u'name': u'#\\u0634\\u0643\\u0631\\u0627_\\u0646\\u062c\\u0648\\u0645_\\u0627\\u0644\\u0639\\u0627\\u0644\\u0645\\u064a', u'promoted_content': None}\n",
        "{u'url': u'http://twitter.com/search?q=%22Rasta+Rocket%22', u'query': u'%22Rasta+Rocket%22', u'name': u'Rasta Rocket', u'promoted_content': None}\n",
        "{u'url': u'http://twitter.com/search?q=%22%D8%B9%D9%85%D8%B1+%D9%87%D9%88%D8%B3%D8%A7%D9%88%D9%8A%22', u'query': u'%22%D8%B9%D9%85%D8%B1+%D9%87%D9%88%D8%B3%D8%A7%D9%88%D9%8A%22', u'name': u'\\u0639\\u0645\\u0631 \\u0647\\u0648\\u0633\\u0627\\u0648\\u064a', u'promoted_content': None}\n",
        "{u'url': u'http://twitter.com/search?q=%23FUTStarsBenzema', u'query': u'%23FUTStarsBenzema', u'name': u'#FUTStarsBenzema', u'promoted_content': None}\n",
        "{u'url': u'http://twitter.com/search?q=%23KavgayaVaktimizYok', u'query': u'%23KavgayaVaktimizYok', u'name': u'#KavgayaVaktimizYok', u'promoted_content': None}\n",
        "{u'url': u'http://twitter.com/search?q=%23iyikido%C4%9Fdunleylailemecnun', u'query': u'%23iyikido%C4%9Fdunleylailemecnun', u'name': u'#iyikido\\u011fdunleylailemecnun', u'promoted_content': None}\n",
        "{u'url': u'http://twitter.com/search?q=%22Eski%C5%9Fehirspor+1-2+Galatasaray%22', u'query': u'%22Eski%C5%9Fehirspor+1-2+Galatasaray%22', u'name': u'Eski\\u015fehirspor 1-2 Galatasaray', u'promoted_content': None}\n",
        "{u'url': u'http://twitter.com/search?q=%22G%C3%BCndemYaapiilir+0537x206x18x4%22', u'query': u'%22G%C3%BCndemYaapiilir+0537x206x18x4%22', u'name': u'G\\xfcndemYaapiilir 0537x206x18x4', u'promoted_content': None}\n",
        "{u'url': u'http://twitter.com/search?q=%22AdamGibiHakemlikYap%C4%B1n+Sabr%C4%B1m%C4%B1z%C4%B1Ta%C5%9F%C4%B1rmay%C4%B1n%22', u'query': u'%22AdamGibiHakemlikYap%C4%B1n+Sabr%C4%B1m%C4%B1z%C4%B1Ta%C5%9F%C4%B1rmay%C4%B1n%22', u'name': u'AdamGibiHakemlikYap\\u0131n Sabr\\u0131m\\u0131z\\u0131Ta\\u015f\\u0131rmay\\u0131n', u'promoted_content': None}\n"
       ]
      }
     ],
     "prompt_number": 17
    },
    {
     "cell_type": "code",
     "collapsed": false,
     "input": [
      "world_trends_set = set([trend['name'] for trends in world_trends\n",
      "                        for trend in trends['trends']])\n",
      "\n",
      "us_trends_set = set([trend['name'] for trends in us_trends\n",
      "                     for trend in trends['trends']]) \n",
      "world_trends_set.intersection(us_trends_set)"
     ],
     "language": "python",
     "metadata": {},
     "outputs": [
      {
       "metadata": {},
       "output_type": "pyout",
       "prompt_number": 20,
       "text": [
        "{u'#NationalPizzaDay'}"
       ]
      }
     ],
     "prompt_number": 20
    },
    {
     "cell_type": "heading",
     "level": 2,
     "metadata": {},
     "source": [
      "Twitter Statuses"
     ]
    },
    {
     "cell_type": "code",
     "collapsed": false,
     "input": [
      "q = world_trends[0]['trends'][0]['name']\n",
      "#print q"
     ],
     "language": "python",
     "metadata": {},
     "outputs": [],
     "prompt_number": 31
    },
    {
     "cell_type": "code",
     "collapsed": false,
     "input": [
      "count = 100\n",
      "search_results = twitter_api.search.tweets(q=q, count=count)"
     ],
     "language": "python",
     "metadata": {},
     "outputs": [],
     "prompt_number": 33
    },
    {
     "cell_type": "code",
     "collapsed": false,
     "input": [
      "statuses = search_results['statuses']\n",
      "len(statuses)"
     ],
     "language": "python",
     "metadata": {},
     "outputs": [
      {
       "metadata": {},
       "output_type": "pyout",
       "prompt_number": 37,
       "text": [
        "100"
       ]
      }
     ],
     "prompt_number": 37
    },
    {
     "cell_type": "code",
     "collapsed": false,
     "input": [
      "search_results['search_metadata']"
     ],
     "language": "python",
     "metadata": {},
     "outputs": [
      {
       "metadata": {},
       "output_type": "pyout",
       "prompt_number": 41,
       "text": [
        "{u'completed_in': 0.072,\n",
        " u'count': 100,\n",
        " u'max_id': 564883181930020865,\n",
        " u'max_id_str': u'564883181930020865',\n",
        " u'next_results': u'?max_id=564883153803034624&q=%23NationalPizzaDay&count=100&include_entities=1',\n",
        " u'query': u'%23NationalPizzaDay',\n",
        " u'refresh_url': u'?since_id=564883181930020865&q=%23NationalPizzaDay&include_entities=1',\n",
        " u'since_id': 0,\n",
        " u'since_id_str': u'0'}"
       ]
      }
     ],
     "prompt_number": 41
    },
    {
     "cell_type": "code",
     "collapsed": false,
     "input": [
      "search_results['search_metadata'].get('next_results')\n"
     ],
     "language": "python",
     "metadata": {},
     "outputs": [
      {
       "metadata": {},
       "output_type": "pyout",
       "prompt_number": 42,
       "text": [
        "u'?max_id=564883153803034624&q=%23NationalPizzaDay&count=100&include_entities=1'"
       ]
      }
     ],
     "prompt_number": 42
    },
    {
     "cell_type": "code",
     "collapsed": false,
     "input": [
      "next_results = search_results['search_metadata'].get('next_results')"
     ],
     "language": "python",
     "metadata": {},
     "outputs": [],
     "prompt_number": 43
    },
    {
     "cell_type": "code",
     "collapsed": false,
     "input": [
      "for kv in next_results[1:].split(\"&\"):\n",
      "    print kv.split(\"=\")\n",
      "#[kv.split('=') for kv in next_results[1:].split(\"&\")]    \n",
      "    "
     ],
     "language": "python",
     "metadata": {},
     "outputs": [
      {
       "output_type": "stream",
       "stream": "stdout",
       "text": [
        "[u'max_id', u'564883153803034624']\n",
        "[u'q', u'%23NationalPizzaDay']\n",
        "[u'count', u'100']\n",
        "[u'include_entities', u'1']\n"
       ]
      }
     ],
     "prompt_number": 52
    },
    {
     "cell_type": "code",
     "collapsed": false,
     "input": [
      "dict([kv.split('=') for kv in next_results[1:].split(\"&\")])"
     ],
     "language": "python",
     "metadata": {},
     "outputs": [
      {
       "metadata": {},
       "output_type": "pyout",
       "prompt_number": 55,
       "text": [
        "{u'count': u'100',\n",
        " u'include_entities': u'1',\n",
        " u'max_id': u'564883153803034624',\n",
        " u'q': u'%23NationalPizzaDay'}"
       ]
      }
     ],
     "prompt_number": 55
    },
    {
     "cell_type": "markdown",
     "metadata": {},
     "source": [
      "#Why we are not using set() here, why dict instead? "
     ]
    },
    {
     "cell_type": "code",
     "collapsed": false,
     "input": [
      "if 'next_results' in search_results['search_metadata']:\n",
      "    next_results = search_results['search_metadata']['next_results']\n",
      "    #pprint(next_results)\n",
      "    kwargs = dict([ kv.split('=') for kv in next_results[1:].split(\"&\") ])\n",
      "    #pprint(kwargs)\n",
      "    search_results = twitter_api.search.tweets(**kwargs)\n",
      "    \n",
      "    print(search_results)\n",
      "    statuses += search_results['statuses']"
     ],
     "language": "python",
     "metadata": {},
     "outputs": [],
     "prompt_number": 78
    },
    {
     "cell_type": "code",
     "collapsed": false,
     "input": [
      "len(statuses)"
     ],
     "language": "python",
     "metadata": {},
     "outputs": [
      {
       "metadata": {},
       "output_type": "pyout",
       "prompt_number": 79,
       "text": [
        "100"
       ]
      }
     ],
     "prompt_number": 79
    },
    {
     "cell_type": "heading",
     "level": 1,
     "metadata": {},
     "source": [
      "Mongo"
     ]
    },
    {
     "cell_type": "markdown",
     "metadata": {},
     "source": [
      "\n",
      "from the command line:\n",
      "$ mkdir -p data/db\n",
      "$ mongod --dbpath data/db\n"
     ]
    },
    {
     "cell_type": "heading",
     "level": 3,
     "metadata": {},
     "source": [
      "Connect to our Mongo database management server (DBMS):"
     ]
    },
    {
     "cell_type": "code",
     "collapsed": false,
     "input": [
      "c = MongoClient()"
     ],
     "language": "python",
     "metadata": {},
     "outputs": [],
     "prompt_number": 82
    },
    {
     "cell_type": "code",
     "collapsed": false,
     "input": [
      "#Create a database\n",
      "db = c.twitter2\n",
      "#Insert the results we pulled from Twitter and store them as a document in a collection named tweets:\n",
      "statuses_ids = db.tweets.insert(statuses)\n",
      "statuses_ids[:5]"
     ],
     "language": "python",
     "metadata": {},
     "outputs": [
      {
       "metadata": {},
       "output_type": "pyout",
       "prompt_number": 87,
       "text": [
        "[ObjectId('54d920f8945e72162dfa57ec'),\n",
        " ObjectId('54d920f8945e72162dfa57ed'),\n",
        " ObjectId('54d920f8945e72162dfa57ee'),\n",
        " ObjectId('54d920f8945e72162dfa57ef'),\n",
        " ObjectId('54d920f8945e72162dfa57f0')]"
       ]
      }
     ],
     "prompt_number": 87
    },
    {
     "cell_type": "code",
     "collapsed": false,
     "input": [
      "c.database_names()"
     ],
     "language": "python",
     "metadata": {},
     "outputs": [
      {
       "metadata": {},
       "output_type": "pyout",
       "prompt_number": 88,
       "text": [
        "[u'local', u'twitter', u'twitter2', u'admin']"
       ]
      }
     ],
     "prompt_number": 88
    },
    {
     "cell_type": "code",
     "collapsed": false,
     "input": [
      "db = c.twitter2\n",
      "db.collection_names()"
     ],
     "language": "python",
     "metadata": {},
     "outputs": [
      {
       "metadata": {},
       "output_type": "pyout",
       "prompt_number": 89,
       "text": [
        "[u'tweets', u'system.indexes']"
       ]
      }
     ],
     "prompt_number": 89
    },
    {
     "cell_type": "code",
     "collapsed": false,
     "input": [
      "db.tweets.find_one()"
     ],
     "language": "python",
     "metadata": {},
     "outputs": [
      {
       "metadata": {},
       "output_type": "pyout",
       "prompt_number": 90,
       "text": [
        "{u'_id': ObjectId('54d920f8945e72162dfa57f3'),\n",
        " u'contributors': None,\n",
        " u'coordinates': None,\n",
        " u'created_at': u'Mon Feb 09 20:26:59 +0000 2015',\n",
        " u'entities': {u'hashtags': [{u'indices': [72, 89],\n",
        "    u'text': u'NationalPizzaDay'}],\n",
        "  u'symbols': [],\n",
        "  u'urls': [{u'display_url': u'instagram.com/p/y5M_ojh8t-/',\n",
        "    u'expanded_url': u'http://instagram.com/p/y5M_ojh8t-/',\n",
        "    u'indices': [90, 112],\n",
        "    u'url': u'http://t.co/5LOZF8fvhU'}],\n",
        "  u'user_mentions': []},\n",
        " u'favorite_count': 0,\n",
        " u'favorited': False,\n",
        " u'geo': None,\n",
        " u'id': 564883180080357376L,\n",
        " u'id_str': u'564883180080357376',\n",
        " u'in_reply_to_screen_name': None,\n",
        " u'in_reply_to_status_id': None,\n",
        " u'in_reply_to_status_id_str': None,\n",
        " u'in_reply_to_user_id': None,\n",
        " u'in_reply_to_user_id_str': None,\n",
        " u'lang': u'en',\n",
        " u'metadata': {u'iso_language_code': u'en', u'result_type': u'recent'},\n",
        " u'place': None,\n",
        " u'possibly_sensitive': False,\n",
        " u'retweet_count': 0,\n",
        " u'retweeted': False,\n",
        " u'source': u'<a href=\"http://instagram.com\" rel=\"nofollow\">Instagram</a>',\n",
        " u'text': u\"\\U0001f60d\\U0001f64ait's national pizza day today!!! I found this in celebration\\U0001f496\\U0001f648\\U0001f649\\u263a\\ufe0f\\U0001f609\\U0001f60f\\U0001f60f\\U0001f355 #NationalPizzaDay http://t.co/5LOZF8fvhU\",\n",
        " u'truncated': False,\n",
        " u'user': {u'contributors_enabled': False,\n",
        "  u'created_at': u'Sun Dec 30 20:48:02 +0000 2012',\n",
        "  u'default_profile': False,\n",
        "  u'default_profile_image': False,\n",
        "  u'description': u'@ddlovato is queen love my girls love the people surrounding me right now',\n",
        "  u'entities': {u'description': {u'urls': []},\n",
        "   u'url': {u'urls': [{u'display_url': u'm.youtube.com/channel/UCikQ8\\u2026',\n",
        "      u'expanded_url': u'https://m.youtube.com/channel/UCikQ8vvDCyiveg6O4uWNtbA',\n",
        "      u'indices': [0, 23],\n",
        "      u'url': u'https://t.co/aVysZfAaLI'}]}},\n",
        "  u'favourites_count': 4027,\n",
        "  u'follow_request_sent': False,\n",
        "  u'followers_count': 644,\n",
        "  u'following': False,\n",
        "  u'friends_count': 2000,\n",
        "  u'geo_enabled': True,\n",
        "  u'id': 1048784354,\n",
        "  u'id_str': u'1048784354',\n",
        "  u'is_translation_enabled': False,\n",
        "  u'is_translator': False,\n",
        "  u'lang': u'en',\n",
        "  u'listed_count': 2,\n",
        "  u'location': u'La La Land',\n",
        "  u'name': u'Queens',\n",
        "  u'notifications': False,\n",
        "  u'profile_background_color': u'F25C98',\n",
        "  u'profile_background_image_url': u'http://abs.twimg.com/images/themes/theme1/bg.png',\n",
        "  u'profile_background_image_url_https': u'https://abs.twimg.com/images/themes/theme1/bg.png',\n",
        "  u'profile_background_tile': False,\n",
        "  u'profile_banner_url': u'https://pbs.twimg.com/profile_banners/1048784354/1422122623',\n",
        "  u'profile_image_url': u'http://pbs.twimg.com/profile_images/559048915681828864/S4EjeH4F_normal.jpeg',\n",
        "  u'profile_image_url_https': u'https://pbs.twimg.com/profile_images/559048915681828864/S4EjeH4F_normal.jpeg',\n",
        "  u'profile_link_color': u'FF8597',\n",
        "  u'profile_location': None,\n",
        "  u'profile_sidebar_border_color': u'DBE6CC',\n",
        "  u'profile_sidebar_fill_color': u'CBDEB1',\n",
        "  u'profile_text_color': u'FFBE8F',\n",
        "  u'profile_use_background_image': True,\n",
        "  u'protected': False,\n",
        "  u'screen_name': u'kealiecoxmwahx',\n",
        "  u'statuses_count': 5635,\n",
        "  u'time_zone': None,\n",
        "  u'url': u'https://t.co/aVysZfAaLI',\n",
        "  u'utc_offset': None,\n",
        "  u'verified': False}}"
       ]
      }
     ],
     "prompt_number": 90
    },
    {
     "cell_type": "code",
     "collapsed": false,
     "input": [
      "popular_tweets = db.tweets.find({'retweet_count': {\"$gte\": 100}})\n",
      "popular_tweets.count()"
     ],
     "language": "python",
     "metadata": {},
     "outputs": [
      {
       "metadata": {},
       "output_type": "pyout",
       "prompt_number": 91,
       "text": [
        "85"
       ]
      }
     ],
     "prompt_number": 91
    },
    {
     "cell_type": "heading",
     "level": 1,
     "metadata": {},
     "source": [
      "Making Sense with Pandas"
     ]
    },
    {
     "cell_type": "code",
     "collapsed": false,
     "input": [
      "db.tweets.find(fields=['created_at', 'retweet_count', 'favorite_count'])"
     ],
     "language": "python",
     "metadata": {},
     "outputs": [
      {
       "metadata": {},
       "output_type": "pyout",
       "prompt_number": 148,
       "text": [
        "<pymongo.cursor.Cursor at 0x10231aed0>"
       ]
      }
     ],
     "prompt_number": 148
    },
    {
     "cell_type": "code",
     "collapsed": false,
     "input": [
      "#Tiene que ser una lista \n",
      "list(db.tweets.find(fields=['created_at', 'retweet_count', 'favorite_count']))"
     ],
     "language": "python",
     "metadata": {},
     "outputs": [
      {
       "metadata": {},
       "output_type": "pyout",
       "prompt_number": 146,
       "text": [
        "[{u'_id': ObjectId('54d920f8945e72162dfa57f3'),\n",
        "  u'created_at': u'Mon Feb 09 20:26:59 +0000 2015',\n",
        "  u'favorite_count': 0,\n",
        "  u'retweet_count': 0},\n",
        " {u'_id': ObjectId('54d920f8945e72162dfa57ec'),\n",
        "  u'created_at': u'Mon Feb 09 20:27:00 +0000 2015',\n",
        "  u'favorite_count': 0,\n",
        "  u'retweet_count': 259},\n",
        " {u'_id': ObjectId('54d920f8945e72162dfa57ed'),\n",
        "  u'created_at': u'Mon Feb 09 20:27:00 +0000 2015',\n",
        "  u'favorite_count': 0,\n",
        "  u'retweet_count': 259},\n",
        " {u'_id': ObjectId('54d920f8945e72162dfa57ee'),\n",
        "  u'created_at': u'Mon Feb 09 20:27:00 +0000 2015',\n",
        "  u'favorite_count': 0,\n",
        "  u'retweet_count': 259},\n",
        " {u'_id': ObjectId('54d920f8945e72162dfa57ef'),\n",
        "  u'created_at': u'Mon Feb 09 20:27:00 +0000 2015',\n",
        "  u'favorite_count': 0,\n",
        "  u'retweet_count': 259},\n",
        " {u'_id': ObjectId('54d920f8945e72162dfa57f0'),\n",
        "  u'created_at': u'Mon Feb 09 20:26:59 +0000 2015',\n",
        "  u'favorite_count': 0,\n",
        "  u'retweet_count': 259},\n",
        " {u'_id': ObjectId('54d920f8945e72162dfa57f1'),\n",
        "  u'created_at': u'Mon Feb 09 20:26:59 +0000 2015',\n",
        "  u'favorite_count': 0,\n",
        "  u'retweet_count': 259},\n",
        " {u'_id': ObjectId('54d920f8945e72162dfa57f2'),\n",
        "  u'created_at': u'Mon Feb 09 20:26:59 +0000 2015',\n",
        "  u'favorite_count': 0,\n",
        "  u'retweet_count': 53},\n",
        " {u'_id': ObjectId('54d920f8945e72162dfa57f4'),\n",
        "  u'created_at': u'Mon Feb 09 20:26:59 +0000 2015',\n",
        "  u'favorite_count': 0,\n",
        "  u'retweet_count': 259},\n",
        " {u'_id': ObjectId('54d920f8945e72162dfa57f5'),\n",
        "  u'created_at': u'Mon Feb 09 20:26:59 +0000 2015',\n",
        "  u'favorite_count': 0,\n",
        "  u'retweet_count': 259},\n",
        " {u'_id': ObjectId('54d920f8945e72162dfa57f6'),\n",
        "  u'created_at': u'Mon Feb 09 20:26:59 +0000 2015',\n",
        "  u'favorite_count': 0,\n",
        "  u'retweet_count': 259},\n",
        " {u'_id': ObjectId('54d920f8945e72162dfa57f7'),\n",
        "  u'created_at': u'Mon Feb 09 20:26:59 +0000 2015',\n",
        "  u'favorite_count': 0,\n",
        "  u'retweet_count': 1032},\n",
        " {u'_id': ObjectId('54d920f8945e72162dfa57f8'),\n",
        "  u'created_at': u'Mon Feb 09 20:26:59 +0000 2015',\n",
        "  u'favorite_count': 0,\n",
        "  u'retweet_count': 247},\n",
        " {u'_id': ObjectId('54d920f8945e72162dfa57f9'),\n",
        "  u'created_at': u'Mon Feb 09 20:26:59 +0000 2015',\n",
        "  u'favorite_count': 0,\n",
        "  u'retweet_count': 259},\n",
        " {u'_id': ObjectId('54d920f8945e72162dfa57fa'),\n",
        "  u'created_at': u'Mon Feb 09 20:26:59 +0000 2015',\n",
        "  u'favorite_count': 0,\n",
        "  u'retweet_count': 1032},\n",
        " {u'_id': ObjectId('54d920f8945e72162dfa57fb'),\n",
        "  u'created_at': u'Mon Feb 09 20:26:59 +0000 2015',\n",
        "  u'favorite_count': 0,\n",
        "  u'retweet_count': 2493},\n",
        " {u'_id': ObjectId('54d920f8945e72162dfa5801'),\n",
        "  u'created_at': u'Mon Feb 09 20:26:58 +0000 2015',\n",
        "  u'favorite_count': 0,\n",
        "  u'retweet_count': 0},\n",
        " {u'_id': ObjectId('54d920f8945e72162dfa57fc'),\n",
        "  u'created_at': u'Mon Feb 09 20:26:59 +0000 2015',\n",
        "  u'favorite_count': 0,\n",
        "  u'retweet_count': 259},\n",
        " {u'_id': ObjectId('54d920f8945e72162dfa57fd'),\n",
        "  u'created_at': u'Mon Feb 09 20:26:59 +0000 2015',\n",
        "  u'favorite_count': 0,\n",
        "  u'retweet_count': 259},\n",
        " {u'_id': ObjectId('54d920f8945e72162dfa57fe'),\n",
        "  u'created_at': u'Mon Feb 09 20:26:59 +0000 2015',\n",
        "  u'favorite_count': 0,\n",
        "  u'retweet_count': 3664},\n",
        " {u'_id': ObjectId('54d920f8945e72162dfa57ff'),\n",
        "  u'created_at': u'Mon Feb 09 20:26:59 +0000 2015',\n",
        "  u'favorite_count': 0,\n",
        "  u'retweet_count': 259},\n",
        " {u'_id': ObjectId('54d920f8945e72162dfa5800'),\n",
        "  u'created_at': u'Mon Feb 09 20:26:59 +0000 2015',\n",
        "  u'favorite_count': 0,\n",
        "  u'retweet_count': 259},\n",
        " {u'_id': ObjectId('54d920f8945e72162dfa5802'),\n",
        "  u'created_at': u'Mon Feb 09 20:26:58 +0000 2015',\n",
        "  u'favorite_count': 0,\n",
        "  u'retweet_count': 3664},\n",
        " {u'_id': ObjectId('54d920f8945e72162dfa5803'),\n",
        "  u'created_at': u'Mon Feb 09 20:26:58 +0000 2015',\n",
        "  u'favorite_count': 0,\n",
        "  u'retweet_count': 259},\n",
        " {u'_id': ObjectId('54d920f8945e72162dfa5804'),\n",
        "  u'created_at': u'Mon Feb 09 20:26:58 +0000 2015',\n",
        "  u'favorite_count': 0,\n",
        "  u'retweet_count': 1},\n",
        " {u'_id': ObjectId('54d920f8945e72162dfa5805'),\n",
        "  u'created_at': u'Mon Feb 09 20:26:58 +0000 2015',\n",
        "  u'favorite_count': 0,\n",
        "  u'retweet_count': 259},\n",
        " {u'_id': ObjectId('54d920f8945e72162dfa5806'),\n",
        "  u'created_at': u'Mon Feb 09 20:26:58 +0000 2015',\n",
        "  u'favorite_count': 0,\n",
        "  u'retweet_count': 259},\n",
        " {u'_id': ObjectId('54d920f8945e72162dfa5807'),\n",
        "  u'created_at': u'Mon Feb 09 20:26:58 +0000 2015',\n",
        "  u'favorite_count': 0,\n",
        "  u'retweet_count': 1},\n",
        " {u'_id': ObjectId('54d920f8945e72162dfa5808'),\n",
        "  u'created_at': u'Mon Feb 09 20:26:58 +0000 2015',\n",
        "  u'favorite_count': 0,\n",
        "  u'retweet_count': 259},\n",
        " {u'_id': ObjectId('54d920f8945e72162dfa5809'),\n",
        "  u'created_at': u'Mon Feb 09 20:26:58 +0000 2015',\n",
        "  u'favorite_count': 0,\n",
        "  u'retweet_count': 259},\n",
        " {u'_id': ObjectId('54d920f8945e72162dfa580a'),\n",
        "  u'created_at': u'Mon Feb 09 20:26:58 +0000 2015',\n",
        "  u'favorite_count': 0,\n",
        "  u'retweet_count': 259},\n",
        " {u'_id': ObjectId('54d920f8945e72162dfa580b'),\n",
        "  u'created_at': u'Mon Feb 09 20:26:58 +0000 2015',\n",
        "  u'favorite_count': 0,\n",
        "  u'retweet_count': 259},\n",
        " {u'_id': ObjectId('54d920f8945e72162dfa580c'),\n",
        "  u'created_at': u'Mon Feb 09 20:26:58 +0000 2015',\n",
        "  u'favorite_count': 0,\n",
        "  u'retweet_count': 259},\n",
        " {u'_id': ObjectId('54d920f8945e72162dfa580d'),\n",
        "  u'created_at': u'Mon Feb 09 20:26:58 +0000 2015',\n",
        "  u'favorite_count': 0,\n",
        "  u'retweet_count': 259},\n",
        " {u'_id': ObjectId('54d920f8945e72162dfa580e'),\n",
        "  u'created_at': u'Mon Feb 09 20:26:58 +0000 2015',\n",
        "  u'favorite_count': 0,\n",
        "  u'retweet_count': 1038},\n",
        " {u'_id': ObjectId('54d920f8945e72162dfa580f'),\n",
        "  u'created_at': u'Mon Feb 09 20:26:57 +0000 2015',\n",
        "  u'favorite_count': 0,\n",
        "  u'retweet_count': 259},\n",
        " {u'_id': ObjectId('54d920f8945e72162dfa5810'),\n",
        "  u'created_at': u'Mon Feb 09 20:26:57 +0000 2015',\n",
        "  u'favorite_count': 0,\n",
        "  u'retweet_count': 259},\n",
        " {u'_id': ObjectId('54d920f8945e72162dfa5811'),\n",
        "  u'created_at': u'Mon Feb 09 20:26:57 +0000 2015',\n",
        "  u'favorite_count': 0,\n",
        "  u'retweet_count': 627},\n",
        " {u'_id': ObjectId('54d920f8945e72162dfa5812'),\n",
        "  u'created_at': u'Mon Feb 09 20:26:57 +0000 2015',\n",
        "  u'favorite_count': 0,\n",
        "  u'retweet_count': 259},\n",
        " {u'_id': ObjectId('54d920f8945e72162dfa5813'),\n",
        "  u'created_at': u'Mon Feb 09 20:26:57 +0000 2015',\n",
        "  u'favorite_count': 0,\n",
        "  u'retweet_count': 1032},\n",
        " {u'_id': ObjectId('54d920f8945e72162dfa5814'),\n",
        "  u'created_at': u'Mon Feb 09 20:26:57 +0000 2015',\n",
        "  u'favorite_count': 0,\n",
        "  u'retweet_count': 259},\n",
        " {u'_id': ObjectId('54d920f8945e72162dfa5815'),\n",
        "  u'created_at': u'Mon Feb 09 20:26:57 +0000 2015',\n",
        "  u'favorite_count': 0,\n",
        "  u'retweet_count': 259},\n",
        " {u'_id': ObjectId('54d920f8945e72162dfa5816'),\n",
        "  u'created_at': u'Mon Feb 09 20:26:57 +0000 2015',\n",
        "  u'favorite_count': 0,\n",
        "  u'retweet_count': 259},\n",
        " {u'_id': ObjectId('54d920f8945e72162dfa5817'),\n",
        "  u'created_at': u'Mon Feb 09 20:26:57 +0000 2015',\n",
        "  u'favorite_count': 0,\n",
        "  u'retweet_count': 259},\n",
        " {u'_id': ObjectId('54d920f8945e72162dfa5818'),\n",
        "  u'created_at': u'Mon Feb 09 20:26:57 +0000 2015',\n",
        "  u'favorite_count': 0,\n",
        "  u'retweet_count': 259},\n",
        " {u'_id': ObjectId('54d920f8945e72162dfa5819'),\n",
        "  u'created_at': u'Mon Feb 09 20:26:57 +0000 2015',\n",
        "  u'favorite_count': 0,\n",
        "  u'retweet_count': 0},\n",
        " {u'_id': ObjectId('54d920f8945e72162dfa581a'),\n",
        "  u'created_at': u'Mon Feb 09 20:26:57 +0000 2015',\n",
        "  u'favorite_count': 0,\n",
        "  u'retweet_count': 259},\n",
        " {u'_id': ObjectId('54d920f8945e72162dfa581b'),\n",
        "  u'created_at': u'Mon Feb 09 20:26:57 +0000 2015',\n",
        "  u'favorite_count': 0,\n",
        "  u'retweet_count': 259},\n",
        " {u'_id': ObjectId('54d920f8945e72162dfa581c'),\n",
        "  u'created_at': u'Mon Feb 09 20:26:57 +0000 2015',\n",
        "  u'favorite_count': 0,\n",
        "  u'retweet_count': 29},\n",
        " {u'_id': ObjectId('54d920f8945e72162dfa581d'),\n",
        "  u'created_at': u'Mon Feb 09 20:26:57 +0000 2015',\n",
        "  u'favorite_count': 0,\n",
        "  u'retweet_count': 259},\n",
        " {u'_id': ObjectId('54d920f8945e72162dfa581e'),\n",
        "  u'created_at': u'Mon Feb 09 20:26:57 +0000 2015',\n",
        "  u'favorite_count': 0,\n",
        "  u'retweet_count': 259},\n",
        " {u'_id': ObjectId('54d920f8945e72162dfa581f'),\n",
        "  u'created_at': u'Mon Feb 09 20:26:56 +0000 2015',\n",
        "  u'favorite_count': 0,\n",
        "  u'retweet_count': 0},\n",
        " {u'_id': ObjectId('54d920f8945e72162dfa5820'),\n",
        "  u'created_at': u'Mon Feb 09 20:26:56 +0000 2015',\n",
        "  u'favorite_count': 0,\n",
        "  u'retweet_count': 0},\n",
        " {u'_id': ObjectId('54d920f8945e72162dfa5821'),\n",
        "  u'created_at': u'Mon Feb 09 20:26:56 +0000 2015',\n",
        "  u'favorite_count': 0,\n",
        "  u'retweet_count': 0},\n",
        " {u'_id': ObjectId('54d920f8945e72162dfa5822'),\n",
        "  u'created_at': u'Mon Feb 09 20:26:56 +0000 2015',\n",
        "  u'favorite_count': 0,\n",
        "  u'retweet_count': 259},\n",
        " {u'_id': ObjectId('54d920f8945e72162dfa5823'),\n",
        "  u'created_at': u'Mon Feb 09 20:26:56 +0000 2015',\n",
        "  u'favorite_count': 0,\n",
        "  u'retweet_count': 43},\n",
        " {u'_id': ObjectId('54d920f8945e72162dfa5824'),\n",
        "  u'created_at': u'Mon Feb 09 20:26:56 +0000 2015',\n",
        "  u'favorite_count': 0,\n",
        "  u'retweet_count': 259},\n",
        " {u'_id': ObjectId('54d920f8945e72162dfa5825'),\n",
        "  u'created_at': u'Mon Feb 09 20:26:56 +0000 2015',\n",
        "  u'favorite_count': 0,\n",
        "  u'retweet_count': 259},\n",
        " {u'_id': ObjectId('54d920f8945e72162dfa5826'),\n",
        "  u'created_at': u'Mon Feb 09 20:26:56 +0000 2015',\n",
        "  u'favorite_count': 0,\n",
        "  u'retweet_count': 259},\n",
        " {u'_id': ObjectId('54d920f8945e72162dfa5827'),\n",
        "  u'created_at': u'Mon Feb 09 20:26:56 +0000 2015',\n",
        "  u'favorite_count': 0,\n",
        "  u'retweet_count': 259},\n",
        " {u'_id': ObjectId('54d920f8945e72162dfa5828'),\n",
        "  u'created_at': u'Mon Feb 09 20:26:56 +0000 2015',\n",
        "  u'favorite_count': 0,\n",
        "  u'retweet_count': 259},\n",
        " {u'_id': ObjectId('54d920f8945e72162dfa5829'),\n",
        "  u'created_at': u'Mon Feb 09 20:26:56 +0000 2015',\n",
        "  u'favorite_count': 0,\n",
        "  u'retweet_count': 259},\n",
        " {u'_id': ObjectId('54d920f8945e72162dfa582a'),\n",
        "  u'created_at': u'Mon Feb 09 20:26:56 +0000 2015',\n",
        "  u'favorite_count': 0,\n",
        "  u'retweet_count': 1},\n",
        " {u'_id': ObjectId('54d920f8945e72162dfa582b'),\n",
        "  u'created_at': u'Mon Feb 09 20:26:56 +0000 2015',\n",
        "  u'favorite_count': 0,\n",
        "  u'retweet_count': 259},\n",
        " {u'_id': ObjectId('54d920f8945e72162dfa582c'),\n",
        "  u'created_at': u'Mon Feb 09 20:26:56 +0000 2015',\n",
        "  u'favorite_count': 0,\n",
        "  u'retweet_count': 259},\n",
        " {u'_id': ObjectId('54d920f8945e72162dfa582d'),\n",
        "  u'created_at': u'Mon Feb 09 20:26:56 +0000 2015',\n",
        "  u'favorite_count': 0,\n",
        "  u'retweet_count': 259},\n",
        " {u'_id': ObjectId('54d920f8945e72162dfa582e'),\n",
        "  u'created_at': u'Mon Feb 09 20:26:55 +0000 2015',\n",
        "  u'favorite_count': 0,\n",
        "  u'retweet_count': 259},\n",
        " {u'_id': ObjectId('54d920f8945e72162dfa582f'),\n",
        "  u'created_at': u'Mon Feb 09 20:26:55 +0000 2015',\n",
        "  u'favorite_count': 0,\n",
        "  u'retweet_count': 1032},\n",
        " {u'_id': ObjectId('54d920f8945e72162dfa5830'),\n",
        "  u'created_at': u'Mon Feb 09 20:26:55 +0000 2015',\n",
        "  u'favorite_count': 0,\n",
        "  u'retweet_count': 0},\n",
        " {u'_id': ObjectId('54d920f8945e72162dfa5831'),\n",
        "  u'created_at': u'Mon Feb 09 20:26:55 +0000 2015',\n",
        "  u'favorite_count': 0,\n",
        "  u'retweet_count': 259},\n",
        " {u'_id': ObjectId('54d920f8945e72162dfa5832'),\n",
        "  u'created_at': u'Mon Feb 09 20:26:55 +0000 2015',\n",
        "  u'favorite_count': 0,\n",
        "  u'retweet_count': 259},\n",
        " {u'_id': ObjectId('54d920f8945e72162dfa5833'),\n",
        "  u'created_at': u'Mon Feb 09 20:26:55 +0000 2015',\n",
        "  u'favorite_count': 0,\n",
        "  u'retweet_count': 1038},\n",
        " {u'_id': ObjectId('54d920f8945e72162dfa5834'),\n",
        "  u'created_at': u'Mon Feb 09 20:26:55 +0000 2015',\n",
        "  u'favorite_count': 0,\n",
        "  u'retweet_count': 259},\n",
        " {u'_id': ObjectId('54d920f8945e72162dfa5835'),\n",
        "  u'created_at': u'Mon Feb 09 20:26:55 +0000 2015',\n",
        "  u'favorite_count': 0,\n",
        "  u'retweet_count': 259},\n",
        " {u'_id': ObjectId('54d920f8945e72162dfa5836'),\n",
        "  u'created_at': u'Mon Feb 09 20:26:55 +0000 2015',\n",
        "  u'favorite_count': 0,\n",
        "  u'retweet_count': 259},\n",
        " {u'_id': ObjectId('54d920f8945e72162dfa5837'),\n",
        "  u'created_at': u'Mon Feb 09 20:26:55 +0000 2015',\n",
        "  u'favorite_count': 0,\n",
        "  u'retweet_count': 161},\n",
        " {u'_id': ObjectId('54d920f8945e72162dfa5838'),\n",
        "  u'created_at': u'Mon Feb 09 20:26:55 +0000 2015',\n",
        "  u'favorite_count': 0,\n",
        "  u'retweet_count': 259},\n",
        " {u'_id': ObjectId('54d920f8945e72162dfa5839'),\n",
        "  u'created_at': u'Mon Feb 09 20:26:55 +0000 2015',\n",
        "  u'favorite_count': 0,\n",
        "  u'retweet_count': 259},\n",
        " {u'_id': ObjectId('54d920f8945e72162dfa583a'),\n",
        "  u'created_at': u'Mon Feb 09 20:26:55 +0000 2015',\n",
        "  u'favorite_count': 0,\n",
        "  u'retweet_count': 259},\n",
        " {u'_id': ObjectId('54d920f8945e72162dfa583b'),\n",
        "  u'created_at': u'Mon Feb 09 20:26:55 +0000 2015',\n",
        "  u'favorite_count': 0,\n",
        "  u'retweet_count': 259},\n",
        " {u'_id': ObjectId('54d920f8945e72162dfa583c'),\n",
        "  u'created_at': u'Mon Feb 09 20:26:55 +0000 2015',\n",
        "  u'favorite_count': 0,\n",
        "  u'retweet_count': 1038},\n",
        " {u'_id': ObjectId('54d920f8945e72162dfa583d'),\n",
        "  u'created_at': u'Mon Feb 09 20:26:55 +0000 2015',\n",
        "  u'favorite_count': 0,\n",
        "  u'retweet_count': 259},\n",
        " {u'_id': ObjectId('54d920f8945e72162dfa583e'),\n",
        "  u'created_at': u'Mon Feb 09 20:26:54 +0000 2015',\n",
        "  u'favorite_count': 0,\n",
        "  u'retweet_count': 259},\n",
        " {u'_id': ObjectId('54d920f8945e72162dfa5845'),\n",
        "  u'created_at': u'Mon Feb 09 20:26:54 +0000 2015',\n",
        "  u'favorite_count': 0,\n",
        "  u'retweet_count': 0},\n",
        " {u'_id': ObjectId('54d920f8945e72162dfa583f'),\n",
        "  u'created_at': u'Mon Feb 09 20:26:54 +0000 2015',\n",
        "  u'favorite_count': 0,\n",
        "  u'retweet_count': 259},\n",
        " {u'_id': ObjectId('54d920f8945e72162dfa5840'),\n",
        "  u'created_at': u'Mon Feb 09 20:26:54 +0000 2015',\n",
        "  u'favorite_count': 0,\n",
        "  u'retweet_count': 259},\n",
        " {u'_id': ObjectId('54d920f8945e72162dfa5841'),\n",
        "  u'created_at': u'Mon Feb 09 20:26:54 +0000 2015',\n",
        "  u'favorite_count': 0,\n",
        "  u'retweet_count': 259},\n",
        " {u'_id': ObjectId('54d920f8945e72162dfa5842'),\n",
        "  u'created_at': u'Mon Feb 09 20:26:54 +0000 2015',\n",
        "  u'favorite_count': 0,\n",
        "  u'retweet_count': 1},\n",
        " {u'_id': ObjectId('54d920f8945e72162dfa5843'),\n",
        "  u'created_at': u'Mon Feb 09 20:26:54 +0000 2015',\n",
        "  u'favorite_count': 0,\n",
        "  u'retweet_count': 259},\n",
        " {u'_id': ObjectId('54d920f8945e72162dfa5844'),\n",
        "  u'created_at': u'Mon Feb 09 20:26:54 +0000 2015',\n",
        "  u'favorite_count': 0,\n",
        "  u'retweet_count': 1032},\n",
        " {u'_id': ObjectId('54d920f8945e72162dfa5846'),\n",
        "  u'created_at': u'Mon Feb 09 20:26:54 +0000 2015',\n",
        "  u'favorite_count': 0,\n",
        "  u'retweet_count': 259},\n",
        " {u'_id': ObjectId('54d920f8945e72162dfa5847'),\n",
        "  u'created_at': u'Mon Feb 09 20:26:54 +0000 2015',\n",
        "  u'favorite_count': 0,\n",
        "  u'retweet_count': 259},\n",
        " {u'_id': ObjectId('54d920f8945e72162dfa5848'),\n",
        "  u'created_at': u'Mon Feb 09 20:26:54 +0000 2015',\n",
        "  u'favorite_count': 0,\n",
        "  u'retweet_count': 247},\n",
        " {u'_id': ObjectId('54d920f8945e72162dfa5849'),\n",
        "  u'created_at': u'Mon Feb 09 20:26:54 +0000 2015',\n",
        "  u'favorite_count': 0,\n",
        "  u'retweet_count': 259},\n",
        " {u'_id': ObjectId('54d920f8945e72162dfa584a'),\n",
        "  u'created_at': u'Mon Feb 09 20:26:53 +0000 2015',\n",
        "  u'favorite_count': 0,\n",
        "  u'retweet_count': 259},\n",
        " {u'_id': ObjectId('54d920f8945e72162dfa584b'),\n",
        "  u'created_at': u'Mon Feb 09 20:26:53 +0000 2015',\n",
        "  u'favorite_count': 0,\n",
        "  u'retweet_count': 259},\n",
        " {u'_id': ObjectId('54d920f8945e72162dfa584c'),\n",
        "  u'created_at': u'Mon Feb 09 20:26:53 +0000 2015',\n",
        "  u'favorite_count': 0,\n",
        "  u'retweet_count': 259},\n",
        " {u'_id': ObjectId('54d920f8945e72162dfa584d'),\n",
        "  u'created_at': u'Mon Feb 09 20:26:53 +0000 2015',\n",
        "  u'favorite_count': 0,\n",
        "  u'retweet_count': 259},\n",
        " {u'_id': ObjectId('54d920f8945e72162dfa584e'),\n",
        "  u'created_at': u'Mon Feb 09 20:26:53 +0000 2015',\n",
        "  u'favorite_count': 0,\n",
        "  u'retweet_count': 259},\n",
        " {u'_id': ObjectId('54d920f8945e72162dfa584f'),\n",
        "  u'created_at': u'Mon Feb 09 20:26:53 +0000 2015',\n",
        "  u'favorite_count': 0,\n",
        "  u'retweet_count': 259}]"
       ]
      }
     ],
     "prompt_number": 146
    },
    {
     "cell_type": "code",
     "collapsed": false,
     "input": [
      "retweet_favorites = pd.DataFrame(list(db.tweets.find(fields=['created_at', 'retweet_count', 'favorite_count'])))\n",
      "retweet_favorites.head()"
     ],
     "language": "python",
     "metadata": {},
     "outputs": [
      {
       "html": [
        "<div style=\"max-height:1000px;max-width:1500px;overflow:auto;\">\n",
        "<table border=\"1\" class=\"dataframe\">\n",
        "  <thead>\n",
        "    <tr style=\"text-align: right;\">\n",
        "      <th></th>\n",
        "      <th>_id</th>\n",
        "      <th>created_at</th>\n",
        "      <th>favorite_count</th>\n",
        "      <th>retweet_count</th>\n",
        "    </tr>\n",
        "  </thead>\n",
        "  <tbody>\n",
        "    <tr>\n",
        "      <th>0</th>\n",
        "      <td> 54d920f8945e72162dfa57f3</td>\n",
        "      <td> Mon Feb 09 20:26:59 +0000 2015</td>\n",
        "      <td> 0</td>\n",
        "      <td>   0</td>\n",
        "    </tr>\n",
        "    <tr>\n",
        "      <th>1</th>\n",
        "      <td> 54d920f8945e72162dfa57ec</td>\n",
        "      <td> Mon Feb 09 20:27:00 +0000 2015</td>\n",
        "      <td> 0</td>\n",
        "      <td> 259</td>\n",
        "    </tr>\n",
        "    <tr>\n",
        "      <th>2</th>\n",
        "      <td> 54d920f8945e72162dfa57ed</td>\n",
        "      <td> Mon Feb 09 20:27:00 +0000 2015</td>\n",
        "      <td> 0</td>\n",
        "      <td> 259</td>\n",
        "    </tr>\n",
        "    <tr>\n",
        "      <th>3</th>\n",
        "      <td> 54d920f8945e72162dfa57ee</td>\n",
        "      <td> Mon Feb 09 20:27:00 +0000 2015</td>\n",
        "      <td> 0</td>\n",
        "      <td> 259</td>\n",
        "    </tr>\n",
        "    <tr>\n",
        "      <th>4</th>\n",
        "      <td> 54d920f8945e72162dfa57ef</td>\n",
        "      <td> Mon Feb 09 20:27:00 +0000 2015</td>\n",
        "      <td> 0</td>\n",
        "      <td> 259</td>\n",
        "    </tr>\n",
        "  </tbody>\n",
        "</table>\n",
        "</div>"
       ],
       "metadata": {},
       "output_type": "pyout",
       "prompt_number": 147,
       "text": [
        "                        _id                      created_at  favorite_count  \\\n",
        "0  54d920f8945e72162dfa57f3  Mon Feb 09 20:26:59 +0000 2015               0   \n",
        "1  54d920f8945e72162dfa57ec  Mon Feb 09 20:27:00 +0000 2015               0   \n",
        "2  54d920f8945e72162dfa57ed  Mon Feb 09 20:27:00 +0000 2015               0   \n",
        "3  54d920f8945e72162dfa57ee  Mon Feb 09 20:27:00 +0000 2015               0   \n",
        "4  54d920f8945e72162dfa57ef  Mon Feb 09 20:27:00 +0000 2015               0   \n",
        "\n",
        "   retweet_count  \n",
        "0              0  \n",
        "1            259  \n",
        "2            259  \n",
        "3            259  \n",
        "4            259  "
       ]
      }
     ],
     "prompt_number": 147
    },
    {
     "cell_type": "code",
     "collapsed": false,
     "input": [
      "retweet_favorites.describe()"
     ],
     "language": "python",
     "metadata": {},
     "outputs": [
      {
       "html": [
        "<div style=\"max-height:1000px;max-width:1500px;overflow:auto;\">\n",
        "<table border=\"1\" class=\"dataframe\">\n",
        "  <thead>\n",
        "    <tr style=\"text-align: right;\">\n",
        "      <th></th>\n",
        "      <th>favorite_count</th>\n",
        "      <th>retweet_count</th>\n",
        "    </tr>\n",
        "  </thead>\n",
        "  <tbody>\n",
        "    <tr>\n",
        "      <th>count</th>\n",
        "      <td> 100</td>\n",
        "      <td>  100.000000</td>\n",
        "    </tr>\n",
        "    <tr>\n",
        "      <th>mean</th>\n",
        "      <td>   0</td>\n",
        "      <td>  376.360000</td>\n",
        "    </tr>\n",
        "    <tr>\n",
        "      <th>std</th>\n",
        "      <td>   0</td>\n",
        "      <td>  574.718632</td>\n",
        "    </tr>\n",
        "    <tr>\n",
        "      <th>min</th>\n",
        "      <td>   0</td>\n",
        "      <td>    0.000000</td>\n",
        "    </tr>\n",
        "    <tr>\n",
        "      <th>25%</th>\n",
        "      <td>   0</td>\n",
        "      <td>  259.000000</td>\n",
        "    </tr>\n",
        "    <tr>\n",
        "      <th>50%</th>\n",
        "      <td>   0</td>\n",
        "      <td>  259.000000</td>\n",
        "    </tr>\n",
        "    <tr>\n",
        "      <th>75%</th>\n",
        "      <td>   0</td>\n",
        "      <td>  259.000000</td>\n",
        "    </tr>\n",
        "    <tr>\n",
        "      <th>max</th>\n",
        "      <td>   0</td>\n",
        "      <td> 3664.000000</td>\n",
        "    </tr>\n",
        "  </tbody>\n",
        "</table>\n",
        "</div>"
       ],
       "metadata": {},
       "output_type": "pyout",
       "prompt_number": 101,
       "text": [
        "       favorite_count  retweet_count\n",
        "count             100     100.000000\n",
        "mean                0     376.360000\n",
        "std                 0     574.718632\n",
        "min                 0       0.000000\n",
        "25%                 0     259.000000\n",
        "50%                 0     259.000000\n",
        "75%                 0     259.000000\n",
        "max                 0    3664.000000"
       ]
      }
     ],
     "prompt_number": 101
    },
    {
     "cell_type": "markdown",
     "metadata": {},
     "source": [
      ".describe() is a useful method to get the gist of our data.\n",
      "However, when applied to a DataFrame, it only describes numeric columns."
     ]
    },
    {
     "cell_type": "code",
     "collapsed": false,
     "input": [
      "retweet_favorites.dtypes\n"
     ],
     "language": "python",
     "metadata": {},
     "outputs": [
      {
       "metadata": {},
       "output_type": "pyout",
       "prompt_number": 102,
       "text": [
        "_id               object\n",
        "created_at        object\n",
        "favorite_count     int64\n",
        "retweet_count      int64\n",
        "dtype: object"
       ]
      }
     ],
     "prompt_number": 102
    },
    {
     "cell_type": "code",
     "collapsed": false,
     "input": [
      "#.describe() can be called on individual columns (i.e. Series), even if they are not numeric.\n",
      "retweet_favorites.created_at.describe()"
     ],
     "language": "python",
     "metadata": {},
     "outputs": [
      {
       "metadata": {},
       "output_type": "pyout",
       "prompt_number": 103,
       "text": [
        "count                                100\n",
        "unique                                 8\n",
        "top       Mon Feb 09 20:26:59 +0000 2015\n",
        "freq                                  17\n",
        "Name: created_at, dtype: object"
       ]
      }
     ],
     "prompt_number": 103
    },
    {
     "cell_type": "code",
     "collapsed": false,
     "input": [
      "#However, in this case created_at is being treated as a string, which is not very helpful. We can fix that with pandas.to_datetime:\n",
      "retweet_favorites.created_at.map(pd.to_datetime).describe()"
     ],
     "language": "python",
     "metadata": {},
     "outputs": [
      {
       "metadata": {},
       "output_type": "pyout",
       "prompt_number": 104,
       "text": [
        "count                     100\n",
        "unique                      8\n",
        "top       2015-02-09 20:26:59\n",
        "freq                       17\n",
        "first     2015-02-09 20:26:53\n",
        "last      2015-02-09 20:27:00\n",
        "Name: created_at, dtype: object"
       ]
      }
     ],
     "prompt_number": 104
    },
    {
     "cell_type": "code",
     "collapsed": false,
     "input": [
      "db.tweets.find_one(fields=['entities.user_mentions', 'user.followers_count'])"
     ],
     "language": "python",
     "metadata": {},
     "outputs": [
      {
       "metadata": {},
       "output_type": "pyout",
       "prompt_number": 105,
       "text": [
        "{u'_id': ObjectId('54d920f8945e72162dfa57f3'),\n",
        " u'entities': {u'user_mentions': []},\n",
        " u'user': {u'followers_count': 644}}"
       ]
      }
     ],
     "prompt_number": 105
    },
    {
     "cell_type": "code",
     "collapsed": false,
     "input": [
      "mentions_followers = list(db.tweets.find(fields=['entities.user_mentions', 'user.followers_count']))\n",
      "pd.DataFrame(mentions_followers).head()"
     ],
     "language": "python",
     "metadata": {},
     "outputs": [
      {
       "html": [
        "<div style=\"max-height:1000px;max-width:1500px;overflow:auto;\">\n",
        "<table border=\"1\" class=\"dataframe\">\n",
        "  <thead>\n",
        "    <tr style=\"text-align: right;\">\n",
        "      <th></th>\n",
        "      <th>_id</th>\n",
        "      <th>entities</th>\n",
        "      <th>user</th>\n",
        "    </tr>\n",
        "  </thead>\n",
        "  <tbody>\n",
        "    <tr>\n",
        "      <th>0</th>\n",
        "      <td> 54d920f8945e72162dfa57f3</td>\n",
        "      <td>                            {u'user_mentions': []}</td>\n",
        "      <td>  {u'followers_count': 644}</td>\n",
        "    </tr>\n",
        "    <tr>\n",
        "      <th>1</th>\n",
        "      <td> 54d920f8945e72162dfa57ec</td>\n",
        "      <td> {u'user_mentions': [{u'indices': [3, 17], u'sc...</td>\n",
        "      <td> {u'followers_count': 4731}</td>\n",
        "    </tr>\n",
        "    <tr>\n",
        "      <th>2</th>\n",
        "      <td> 54d920f8945e72162dfa57ed</td>\n",
        "      <td> {u'user_mentions': [{u'indices': [3, 17], u'sc...</td>\n",
        "      <td> {u'followers_count': 4614}</td>\n",
        "    </tr>\n",
        "    <tr>\n",
        "      <th>3</th>\n",
        "      <td> 54d920f8945e72162dfa57ee</td>\n",
        "      <td> {u'user_mentions': [{u'indices': [3, 17], u'sc...</td>\n",
        "      <td> {u'followers_count': 2671}</td>\n",
        "    </tr>\n",
        "    <tr>\n",
        "      <th>4</th>\n",
        "      <td> 54d920f8945e72162dfa57ef</td>\n",
        "      <td> {u'user_mentions': [{u'indices': [3, 17], u'sc...</td>\n",
        "      <td>  {u'followers_count': 973}</td>\n",
        "    </tr>\n",
        "  </tbody>\n",
        "</table>\n",
        "</div>"
       ],
       "metadata": {},
       "output_type": "pyout",
       "prompt_number": 106,
       "text": [
        "                        _id  \\\n",
        "0  54d920f8945e72162dfa57f3   \n",
        "1  54d920f8945e72162dfa57ec   \n",
        "2  54d920f8945e72162dfa57ed   \n",
        "3  54d920f8945e72162dfa57ee   \n",
        "4  54d920f8945e72162dfa57ef   \n",
        "\n",
        "                                            entities  \\\n",
        "0                             {u'user_mentions': []}   \n",
        "1  {u'user_mentions': [{u'indices': [3, 17], u'sc...   \n",
        "2  {u'user_mentions': [{u'indices': [3, 17], u'sc...   \n",
        "3  {u'user_mentions': [{u'indices': [3, 17], u'sc...   \n",
        "4  {u'user_mentions': [{u'indices': [3, 17], u'sc...   \n",
        "\n",
        "                         user  \n",
        "0   {u'followers_count': 644}  \n",
        "1  {u'followers_count': 4731}  \n",
        "2  {u'followers_count': 4614}  \n",
        "3  {u'followers_count': 2671}  \n",
        "4   {u'followers_count': 973}  "
       ]
      }
     ],
     "prompt_number": 106
    },
    {
     "cell_type": "code",
     "collapsed": false,
     "input": [
      "#for tweet in mentions_followers:\n",
      "  #  print {'user_mentions': len(tweet['entities']['user_mentions']),'followers_count': tweet['user'].get('followers_count')}"
     ],
     "language": "python",
     "metadata": {},
     "outputs": [
      {
       "output_type": "stream",
       "stream": "stdout",
       "text": [
        "{'user_mentions': 0, 'followers_count': 644}\n",
        "{'user_mentions': 1, 'followers_count': 4731}\n",
        "{'user_mentions': 1, 'followers_count': 4614}\n",
        "{'user_mentions': 1, 'followers_count': 2671}\n",
        "{'user_mentions': 1, 'followers_count': 973}\n",
        "{'user_mentions': 1, 'followers_count': 1843}\n",
        "{'user_mentions': 1, 'followers_count': 381}\n",
        "{'user_mentions': 1, 'followers_count': 377}\n",
        "{'user_mentions': 1, 'followers_count': 2263}\n",
        "{'user_mentions': 1, 'followers_count': 5035}\n",
        "{'user_mentions': 1, 'followers_count': 783}\n",
        "{'user_mentions': 1, 'followers_count': 783}\n",
        "{'user_mentions': 1, 'followers_count': 309}\n",
        "{'user_mentions': 1, 'followers_count': 497}\n",
        "{'user_mentions': 1, 'followers_count': 497}\n",
        "{'user_mentions': 2, 'followers_count': 153}\n",
        "{'user_mentions': 1, 'followers_count': 992}\n",
        "{'user_mentions': 1, 'followers_count': 6429}\n",
        "{'user_mentions': 1, 'followers_count': 269}\n",
        "{'user_mentions': 1, 'followers_count': 132}\n",
        "{'user_mentions': 1, 'followers_count': 1296}\n",
        "{'user_mentions': 1, 'followers_count': 438}\n",
        "{'user_mentions': 1, 'followers_count': 164}\n",
        "{'user_mentions': 1, 'followers_count': 74}\n",
        "{'user_mentions': 1, 'followers_count': 32}\n",
        "{'user_mentions': 1, 'followers_count': 12431}\n",
        "{'user_mentions': 1, 'followers_count': 4516}\n",
        "{'user_mentions': 3, 'followers_count': 466}\n",
        "{'user_mentions': 1, 'followers_count': 1327}\n",
        "{'user_mentions': 1, 'followers_count': 1447}\n",
        "{'user_mentions': 1, 'followers_count': 1298}\n",
        "{'user_mentions': 1, 'followers_count': 1274}\n",
        "{'user_mentions': 1, 'followers_count': 8366}\n",
        "{'user_mentions': 1, 'followers_count': 573}\n",
        "{'user_mentions': 1, 'followers_count': 333}\n",
        "{'user_mentions': 1, 'followers_count': 146}\n",
        "{'user_mentions': 1, 'followers_count': 7255}\n",
        "{'user_mentions': 1, 'followers_count': 48}\n",
        "{'user_mentions': 1, 'followers_count': 6599}\n",
        "{'user_mentions': 1, 'followers_count': 117}\n",
        "{'user_mentions': 1, 'followers_count': 1818}\n",
        "{'user_mentions': 1, 'followers_count': 1292}\n",
        "{'user_mentions': 1, 'followers_count': 3925}\n",
        "{'user_mentions': 1, 'followers_count': 242}\n",
        "{'user_mentions': 1, 'followers_count': 548}\n",
        "{'user_mentions': 0, 'followers_count': 19}\n",
        "{'user_mentions': 1, 'followers_count': 1670}\n",
        "{'user_mentions': 1, 'followers_count': 92}\n",
        "{'user_mentions': 1, 'followers_count': 369}\n",
        "{'user_mentions': 1, 'followers_count': 788}\n",
        "{'user_mentions': 1, 'followers_count': 2161}\n",
        "{'user_mentions': 1, 'followers_count': 560}\n",
        "{'user_mentions': 1, 'followers_count': 18}\n",
        "{'user_mentions': 2, 'followers_count': 1716}\n",
        "{'user_mentions': 1, 'followers_count': 1117}\n",
        "{'user_mentions': 1, 'followers_count': 274}\n",
        "{'user_mentions': 1, 'followers_count': 1190}\n",
        "{'user_mentions': 1, 'followers_count': 19376}\n",
        "{'user_mentions': 1, 'followers_count': 713}\n",
        "{'user_mentions': 1, 'followers_count': 59}\n",
        "{'user_mentions': 1, 'followers_count': 1102}\n",
        "{'user_mentions': 1, 'followers_count': 10120}\n",
        "{'user_mentions': 1, 'followers_count': 15879}\n",
        "{'user_mentions': 1, 'followers_count': 176}\n",
        "{'user_mentions': 1, 'followers_count': 2367}\n",
        "{'user_mentions': 1, 'followers_count': 11075}\n",
        "{'user_mentions': 1, 'followers_count': 5955}\n",
        "{'user_mentions': 1, 'followers_count': 1170}\n",
        "{'user_mentions': 1, 'followers_count': 233}\n",
        "{'user_mentions': 1, 'followers_count': 1680}\n",
        "{'user_mentions': 1, 'followers_count': 10790}\n",
        "{'user_mentions': 1, 'followers_count': 45}\n",
        "{'user_mentions': 1, 'followers_count': 3048}\n",
        "{'user_mentions': 1, 'followers_count': 1089}\n",
        "{'user_mentions': 1, 'followers_count': 112139}\n",
        "{'user_mentions': 1, 'followers_count': 1154}\n",
        "{'user_mentions': 1, 'followers_count': 759}\n",
        "{'user_mentions': 1, 'followers_count': 2436}\n",
        "{'user_mentions': 1, 'followers_count': 3502}\n",
        "{'user_mentions': 1, 'followers_count': 841}\n",
        "{'user_mentions': 1, 'followers_count': 240}\n",
        "{'user_mentions': 1, 'followers_count': 1670}\n",
        "{'user_mentions': 1, 'followers_count': 1564}\n",
        "{'user_mentions': 0, 'followers_count': 384}\n",
        "{'user_mentions': 1, 'followers_count': 485}\n",
        "{'user_mentions': 1, 'followers_count': 2861}\n",
        "{'user_mentions': 1, 'followers_count': 2585}\n",
        "{'user_mentions': 1, 'followers_count': 131}\n",
        "{'user_mentions': 1, 'followers_count': 1187}\n",
        "{'user_mentions': 1, 'followers_count': 381}\n",
        "{'user_mentions': 1, 'followers_count': 420}\n",
        "{'user_mentions': 1, 'followers_count': 5401}\n",
        "{'user_mentions': 1, 'followers_count': 91}\n",
        "{'user_mentions': 1, 'followers_count': 1063}\n",
        "{'user_mentions': 1, 'followers_count': 16593}\n",
        "{'user_mentions': 1, 'followers_count': 2674}\n",
        "{'user_mentions': 1, 'followers_count': 454}\n",
        "{'user_mentions': 1, 'followers_count': 1323}\n",
        "{'user_mentions': 1, 'followers_count': 6391}\n",
        "{'user_mentions': 1, 'followers_count': 1868}\n"
       ]
      }
     ],
     "prompt_number": 121
    },
    {
     "cell_type": "code",
     "collapsed": false,
     "input": [
      "mentions_followers_df = pd.DataFrame({'user_mentions': len(tweet['entities']['user_mentions']),\n",
      "                                      'followers_count': tweet['user'].get('followers_count')}\n",
      "                                     for tweet in mentions_followers)"
     ],
     "language": "python",
     "metadata": {},
     "outputs": [],
     "prompt_number": 122
    },
    {
     "cell_type": "code",
     "collapsed": false,
     "input": [
      "mentions_followers_df.head()"
     ],
     "language": "python",
     "metadata": {},
     "outputs": [
      {
       "html": [
        "<div style=\"max-height:1000px;max-width:1500px;overflow:auto;\">\n",
        "<table border=\"1\" class=\"dataframe\">\n",
        "  <thead>\n",
        "    <tr style=\"text-align: right;\">\n",
        "      <th></th>\n",
        "      <th>followers_count</th>\n",
        "      <th>user_mentions</th>\n",
        "    </tr>\n",
        "  </thead>\n",
        "  <tbody>\n",
        "    <tr>\n",
        "      <th>0</th>\n",
        "      <td>  644</td>\n",
        "      <td> 0</td>\n",
        "    </tr>\n",
        "    <tr>\n",
        "      <th>1</th>\n",
        "      <td> 4731</td>\n",
        "      <td> 1</td>\n",
        "    </tr>\n",
        "    <tr>\n",
        "      <th>2</th>\n",
        "      <td> 4614</td>\n",
        "      <td> 1</td>\n",
        "    </tr>\n",
        "    <tr>\n",
        "      <th>3</th>\n",
        "      <td> 2671</td>\n",
        "      <td> 1</td>\n",
        "    </tr>\n",
        "    <tr>\n",
        "      <th>4</th>\n",
        "      <td>  973</td>\n",
        "      <td> 1</td>\n",
        "    </tr>\n",
        "  </tbody>\n",
        "</table>\n",
        "</div>"
       ],
       "metadata": {},
       "output_type": "pyout",
       "prompt_number": 124,
       "text": [
        "   followers_count  user_mentions\n",
        "0              644              0\n",
        "1             4731              1\n",
        "2             4614              1\n",
        "3             2671              1\n",
        "4              973              1"
       ]
      }
     ],
     "prompt_number": 124
    },
    {
     "cell_type": "code",
     "collapsed": false,
     "input": [
      "%matplotlib inline"
     ],
     "language": "python",
     "metadata": {},
     "outputs": [],
     "prompt_number": 125
    },
    {
     "cell_type": "code",
     "collapsed": false,
     "input": [
      "plt.scatter(mentions_followers_df.user_mentions, mentions_followers_df.followers_count)"
     ],
     "language": "python",
     "metadata": {},
     "outputs": [
      {
       "metadata": {},
       "output_type": "pyout",
       "prompt_number": 126,
       "text": [
        "<matplotlib.collections.PathCollection at 0x10a729750>"
       ]
      },
      {
       "metadata": {},
       "output_type": "display_data",
       "png": "[encoded data removed]",
       "text": [
        "<matplotlib.figure.Figure at 0x10a7295d0>"
       ]
      }
     ],
     "prompt_number": 126
    },
    {
     "cell_type": "code",
     "collapsed": false,
     "input": [
      "mentions_followers_df.corr()"
     ],
     "language": "python",
     "metadata": {},
     "outputs": [
      {
       "html": [
        "<div style=\"max-height:1000px;max-width:1500px;overflow:auto;\">\n",
        "<table border=\"1\" class=\"dataframe\">\n",
        "  <thead>\n",
        "    <tr style=\"text-align: right;\">\n",
        "      <th></th>\n",
        "      <th>followers_count</th>\n",
        "      <th>user_mentions</th>\n",
        "    </tr>\n",
        "  </thead>\n",
        "  <tbody>\n",
        "    <tr>\n",
        "      <th>followers_count</th>\n",
        "      <td> 1.000000</td>\n",
        "      <td>-0.005167</td>\n",
        "    </tr>\n",
        "    <tr>\n",
        "      <th>user_mentions</th>\n",
        "      <td>-0.005167</td>\n",
        "      <td> 1.000000</td>\n",
        "    </tr>\n",
        "  </tbody>\n",
        "</table>\n",
        "</div>"
       ],
       "metadata": {},
       "output_type": "pyout",
       "prompt_number": 127,
       "text": [
        "                 followers_count  user_mentions\n",
        "followers_count         1.000000      -0.005167\n",
        "user_mentions          -0.005167       1.000000"
       ]
      }
     ],
     "prompt_number": 127
    },
    {
     "cell_type": "heading",
     "level": 2,
     "metadata": {},
     "source": [
      "LAB Tweets in CAnada"
     ]
    },
    {
     "cell_type": "code",
     "collapsed": false,
     "input": [
      "# The Yahoo! Where On Earth ID for the entire world is 1.\n",
      "# See https://dev.twitter.com/docs/api/1.1/get/trends/place and\n",
      "# http://developer.yahoo.com/geo/geoplanet/\n",
      "# The [Yahoo! Where On Earth ID](https://developer.yahoo.com/geo/geoplanet/) of Canada is 23424775.  \n",
      "# Use it to find Twitter trends in Canada and compare it to US trends. What's the difference between them? \n",
      "\n",
      "WORLD_WOE_ID = 1\n",
      "CAN_WOE_ID = 23424775\n",
      "\n",
      "# Prefix ID with the underscore for query string parameterization.\n",
      "# Without the underscore, the twitter package appends the ID value\n",
      "# to the URL itself as a special case keyword argument.\n",
      "\n",
      "world_trends = twitter_api.trends.place(_id=WORLD_WOE_ID)\n",
      "#can_trends = twitter_api.trends.place(_id=CAN_WOE_ID)\n",
      "\n",
      "\n"
     ],
     "language": "python",
     "metadata": {},
     "outputs": [
      {
       "ename": "TwitterHTTPError",
       "evalue": "Twitter sent status 429 for URL: 1.1/trends/place.json using parameters: (id=1&oauth_consumer_key=SC1Wwns5R9soaEqQKE9O13oT6&oauth_nonce=3859162734743538245&oauth_signature_method=HMAC-SHA1&oauth_timestamp=1423518236&oauth_token=2585325422-Q4kayWi5nk0mRKjJ3lyCKVE8GK4YifpOSzQ4Vsv&oauth_version=1.0&oauth_signature=SZkVKGo1BS7kc2nOcT6WirW%2FGkM%3D)\ndetails: {\"errors\":[{\"message\":\"Rate limit exceeded\",\"code\":88}]}",
       "output_type": "pyerr",
       "traceback": [
        "\u001b[0;31m---------------------------------------------------------------------------\u001b[0m\n\u001b[0;31mTwitterHTTPError\u001b[0m                          Traceback (most recent call last)",
        "\u001b[0;32m<ipython-input-145-58babc07307c>\u001b[0m in \u001b[0;36m<module>\u001b[0;34m()\u001b[0m\n\u001b[1;32m     12\u001b[0m \u001b[0;31m# to the URL itself as a special case keyword argument.\u001b[0m\u001b[0;34m\u001b[0m\u001b[0;34m\u001b[0m\u001b[0m\n\u001b[1;32m     13\u001b[0m \u001b[0;34m\u001b[0m\u001b[0m\n\u001b[0;32m---> 14\u001b[0;31m \u001b[0mworld_trends\u001b[0m \u001b[0;34m=\u001b[0m \u001b[0mtwitter_api\u001b[0m\u001b[0;34m.\u001b[0m\u001b[0mtrends\u001b[0m\u001b[0;34m.\u001b[0m\u001b[0mplace\u001b[0m\u001b[0;34m(\u001b[0m\u001b[0m_id\u001b[0m\u001b[0;34m=\u001b[0m\u001b[0mWORLD_WOE_ID\u001b[0m\u001b[0;34m)\u001b[0m\u001b[0;34m\u001b[0m\u001b[0m\n\u001b[0m\u001b[1;32m     15\u001b[0m \u001b[0;31m#can_trends = twitter_api.trends.place(_id=CAN_WOE_ID)\u001b[0m\u001b[0;34m\u001b[0m\u001b[0;34m\u001b[0m\u001b[0m\n\u001b[1;32m     16\u001b[0m \u001b[0;34m\u001b[0m\u001b[0m\n",
        "\u001b[0;32m/Users/pachelbel/anaconda/lib/python2.7/site-packages/twitter/api.pyc\u001b[0m in \u001b[0;36m__call__\u001b[0;34m(self, **kwargs)\u001b[0m\n\u001b[1;32m    264\u001b[0m \u001b[0;34m\u001b[0m\u001b[0m\n\u001b[1;32m    265\u001b[0m         \u001b[0mreq\u001b[0m \u001b[0;34m=\u001b[0m \u001b[0murllib_request\u001b[0m\u001b[0;34m.\u001b[0m\u001b[0mRequest\u001b[0m\u001b[0;34m(\u001b[0m\u001b[0muriBase\u001b[0m\u001b[0;34m,\u001b[0m \u001b[0mbody\u001b[0m\u001b[0;34m,\u001b[0m \u001b[0mheaders\u001b[0m\u001b[0;34m)\u001b[0m\u001b[0;34m\u001b[0m\u001b[0m\n\u001b[0;32m--> 266\u001b[0;31m         \u001b[0;32mreturn\u001b[0m \u001b[0mself\u001b[0m\u001b[0;34m.\u001b[0m\u001b[0m_handle_response\u001b[0m\u001b[0;34m(\u001b[0m\u001b[0mreq\u001b[0m\u001b[0;34m,\u001b[0m \u001b[0muri\u001b[0m\u001b[0;34m,\u001b[0m \u001b[0marg_data\u001b[0m\u001b[0;34m,\u001b[0m \u001b[0m_timeout\u001b[0m\u001b[0;34m)\u001b[0m\u001b[0;34m\u001b[0m\u001b[0m\n\u001b[0m\u001b[1;32m    267\u001b[0m \u001b[0;34m\u001b[0m\u001b[0m\n\u001b[1;32m    268\u001b[0m     \u001b[0;32mdef\u001b[0m \u001b[0m_handle_response\u001b[0m\u001b[0;34m(\u001b[0m\u001b[0mself\u001b[0m\u001b[0;34m,\u001b[0m \u001b[0mreq\u001b[0m\u001b[0;34m,\u001b[0m \u001b[0muri\u001b[0m\u001b[0;34m,\u001b[0m \u001b[0marg_data\u001b[0m\u001b[0;34m,\u001b[0m \u001b[0m_timeout\u001b[0m\u001b[0;34m=\u001b[0m\u001b[0mNone\u001b[0m\u001b[0;34m)\u001b[0m\u001b[0;34m:\u001b[0m\u001b[0;34m\u001b[0m\u001b[0m\n",
        "\u001b[0;32m/Users/pachelbel/anaconda/lib/python2.7/site-packages/twitter/api.pyc\u001b[0m in \u001b[0;36m_handle_response\u001b[0;34m(self, req, uri, arg_data, _timeout)\u001b[0m\n\u001b[1;32m    297\u001b[0m                 \u001b[0;32mreturn\u001b[0m \u001b[0;34m[\u001b[0m\u001b[0;34m]\u001b[0m\u001b[0;34m\u001b[0m\u001b[0m\n\u001b[1;32m    298\u001b[0m             \u001b[0;32melse\u001b[0m\u001b[0;34m:\u001b[0m\u001b[0;34m\u001b[0m\u001b[0m\n\u001b[0;32m--> 299\u001b[0;31m                 \u001b[0;32mraise\u001b[0m \u001b[0mTwitterHTTPError\u001b[0m\u001b[0;34m(\u001b[0m\u001b[0me\u001b[0m\u001b[0;34m,\u001b[0m \u001b[0muri\u001b[0m\u001b[0;34m,\u001b[0m \u001b[0mself\u001b[0m\u001b[0;34m.\u001b[0m\u001b[0mformat\u001b[0m\u001b[0;34m,\u001b[0m \u001b[0marg_data\u001b[0m\u001b[0;34m)\u001b[0m\u001b[0;34m\u001b[0m\u001b[0m\n\u001b[0m\u001b[1;32m    300\u001b[0m \u001b[0;34m\u001b[0m\u001b[0m\n\u001b[1;32m    301\u001b[0m \u001b[0;34m\u001b[0m\u001b[0m\n",
        "\u001b[0;31mTwitterHTTPError\u001b[0m: Twitter sent status 429 for URL: 1.1/trends/place.json using parameters: (id=1&oauth_consumer_key=SC1Wwns5R9soaEqQKE9O13oT6&oauth_nonce=3859162734743538245&oauth_signature_method=HMAC-SHA1&oauth_timestamp=1423518236&oauth_token=2585325422-Q4kayWi5nk0mRKjJ3lyCKVE8GK4YifpOSzQ4Vsv&oauth_version=1.0&oauth_signature=SZkVKGo1BS7kc2nOcT6WirW%2FGkM%3D)\ndetails: {\"errors\":[{\"message\":\"Rate limit exceeded\",\"code\":88}]}"
       ]
      }
     ],
     "prompt_number": 145
    },
    {
     "cell_type": "code",
     "collapsed": false,
     "input": [
      "#Insert the last 100 tweets for all Canada-only trends into a `canada` collection. \n",
      "#search_results = twitter_api.search.tweets(q=can_trends[0]['trends'], count=100)"
     ],
     "language": "python",
     "metadata": {},
     "outputs": [],
     "prompt_number": 144
    },
    {
     "cell_type": "code",
     "collapsed": false,
     "input": [],
     "language": "python",
     "metadata": {},
     "outputs": []
    }
   ],
   "metadata": {}
  }
 ]
}