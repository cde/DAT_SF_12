{
 "metadata": {
  "name": "",
  "signature": "sha256:30080002ac073737d40fb69da70087c1b31db1e710193f6cb986eda96771ed84"
 },
 "nbformat": 3,
 "nbformat_minor": 0,
 "worksheets": [
  {
   "cells": [
    {
     "cell_type": "code",
     "collapsed": false,
     "input": [
      "%reload_ext  sql\n",
      "import sqlite3\n",
      "import pandas as pd\n",
      "conn = sqlite3.connect('enron.db')"
     ],
     "language": "python",
     "metadata": {},
     "outputs": [],
     "prompt_number": 53
    },
    {
     "cell_type": "code",
     "collapsed": false,
     "input": [
      "EmployeeBase = pd.read_sql('Select * from EmployeeBase',conn)\n",
      "MessageBase = pd.read_sql('Select * from MessageBase',conn)\n",
      "RecipientBase = pd.read_sql('Select * from RecipientBase',conn)"
     ],
     "language": "python",
     "metadata": {},
     "outputs": [],
     "prompt_number": 49
    },
    {
     "cell_type": "code",
     "collapsed": false,
     "input": [
      "#df_employee_msg = EmployeeBase.merge(MessageBase, left_on =\"eid\", right_on=\"from_eid\" )[['eid','mid','seniority','from_eid']]\n",
      "df_employee_msg = pd.merge(EmployeeBase, MessageBase, left_on =\"eid\", right_on=\"from_eid\" )[['eid','mid','seniority','from_eid']]\n",
      "df_employee_msg.head()"
     ],
     "language": "python",
     "metadata": {},
     "outputs": [
      {
       "html": [
        "<div style=\"max-height:1000px;max-width:1500px;overflow:auto;\">\n",
        "<table border=\"1\" class=\"dataframe\">\n",
        "  <thead>\n",
        "    <tr style=\"text-align: right;\">\n",
        "      <th></th>\n",
        "      <th>eid</th>\n",
        "      <th>mid</th>\n",
        "      <th>seniority</th>\n",
        "      <th>from_eid</th>\n",
        "    </tr>\n",
        "  </thead>\n",
        "  <tbody>\n",
        "    <tr>\n",
        "      <th>0</th>\n",
        "      <td> 1</td>\n",
        "      <td> 1611</td>\n",
        "      <td> Senior</td>\n",
        "      <td> 1</td>\n",
        "    </tr>\n",
        "    <tr>\n",
        "      <th>1</th>\n",
        "      <td> 1</td>\n",
        "      <td> 1615</td>\n",
        "      <td> Senior</td>\n",
        "      <td> 1</td>\n",
        "    </tr>\n",
        "    <tr>\n",
        "      <th>2</th>\n",
        "      <td> 1</td>\n",
        "      <td> 1722</td>\n",
        "      <td> Senior</td>\n",
        "      <td> 1</td>\n",
        "    </tr>\n",
        "    <tr>\n",
        "      <th>3</th>\n",
        "      <td> 1</td>\n",
        "      <td> 1723</td>\n",
        "      <td> Senior</td>\n",
        "      <td> 1</td>\n",
        "    </tr>\n",
        "    <tr>\n",
        "      <th>4</th>\n",
        "      <td> 1</td>\n",
        "      <td> 1763</td>\n",
        "      <td> Senior</td>\n",
        "      <td> 1</td>\n",
        "    </tr>\n",
        "  </tbody>\n",
        "</table>\n",
        "</div>"
       ],
       "metadata": {},
       "output_type": "pyout",
       "prompt_number": 90,
       "text": [
        "   eid   mid seniority  from_eid\n",
        "0    1  1611    Senior         1\n",
        "1    1  1615    Senior         1\n",
        "2    1  1722    Senior         1\n",
        "3    1  1723    Senior         1\n",
        "4    1  1763    Senior         1"
       ]
      }
     ],
     "prompt_number": 90
    },
    {
     "cell_type": "code",
     "collapsed": false,
     "input": [
      "df_final = pd.merge(df_employee_msg, RecipientBase, left_on='mid', right_on='mid')\n",
      "df_boxplot = "
     ],
     "language": "python",
     "metadata": {},
     "outputs": [],
     "prompt_number": 91
    },
    {
     "cell_type": "code",
     "collapsed": false,
     "input": [
      "%%bash\n",
      "sqlite3 enron.db .tables"
     ],
     "language": "python",
     "metadata": {},
     "outputs": [
      {
       "output_type": "stream",
       "stream": "stdout",
       "text": [
        "Employee          EmployeeWithVars  MessageBase       RecipientBase   \n",
        "EmployeeBase      Message           Recipient       \n"
       ]
      }
     ],
     "prompt_number": 19
    },
    {
     "cell_type": "code",
     "collapsed": false,
     "input": [
      "%%sql sqlite:///enron.db\n",
      "SELECT eid, mid, seniority,  MAX(rno) as rno\n",
      "FROM EmployeeBase \n",
      "JOIN MessageBase ON eid = from_eid \n",
      "JOIN RecipientBase USING(mid)\n",
      "GROUP BY eid, mid, seniority\n",
      "limit 20"
     ],
     "language": "python",
     "metadata": {},
     "outputs": [
      {
       "output_type": "stream",
       "stream": "stdout",
       "text": [
        "Done.\n"
       ]
      },
      {
       "html": [
        "<table>\n",
        "    <tr>\n",
        "        <th>eid</th>\n",
        "        <th>mid</th>\n",
        "        <th>seniority</th>\n",
        "        <th>rno</th>\n",
        "    </tr>\n",
        "    <tr>\n",
        "        <td>138</td>\n",
        "        <td>1</td>\n",
        "        <td>Senior</td>\n",
        "        <td>1</td>\n",
        "    </tr>\n",
        "    <tr>\n",
        "        <td>138</td>\n",
        "        <td>2</td>\n",
        "        <td>Senior</td>\n",
        "        <td>1</td>\n",
        "    </tr>\n",
        "    <tr>\n",
        "        <td>138</td>\n",
        "        <td>3</td>\n",
        "        <td>Senior</td>\n",
        "        <td>1</td>\n",
        "    </tr>\n",
        "    <tr>\n",
        "        <td>138</td>\n",
        "        <td>4</td>\n",
        "        <td>Senior</td>\n",
        "        <td>4</td>\n",
        "    </tr>\n",
        "    <tr>\n",
        "        <td>138</td>\n",
        "        <td>5</td>\n",
        "        <td>Senior</td>\n",
        "        <td>2</td>\n",
        "    </tr>\n",
        "    <tr>\n",
        "        <td>138</td>\n",
        "        <td>6</td>\n",
        "        <td>Senior</td>\n",
        "        <td>1</td>\n",
        "    </tr>\n",
        "    <tr>\n",
        "        <td>138</td>\n",
        "        <td>7</td>\n",
        "        <td>Senior</td>\n",
        "        <td>1</td>\n",
        "    </tr>\n",
        "    <tr>\n",
        "        <td>138</td>\n",
        "        <td>8</td>\n",
        "        <td>Senior</td>\n",
        "        <td>1</td>\n",
        "    </tr>\n",
        "    <tr>\n",
        "        <td>138</td>\n",
        "        <td>9</td>\n",
        "        <td>Senior</td>\n",
        "        <td>1</td>\n",
        "    </tr>\n",
        "    <tr>\n",
        "        <td>138</td>\n",
        "        <td>10</td>\n",
        "        <td>Senior</td>\n",
        "        <td>1</td>\n",
        "    </tr>\n",
        "    <tr>\n",
        "        <td>138</td>\n",
        "        <td>11</td>\n",
        "        <td>Senior</td>\n",
        "        <td>1</td>\n",
        "    </tr>\n",
        "    <tr>\n",
        "        <td>138</td>\n",
        "        <td>12</td>\n",
        "        <td>Senior</td>\n",
        "        <td>3</td>\n",
        "    </tr>\n",
        "    <tr>\n",
        "        <td>138</td>\n",
        "        <td>13</td>\n",
        "        <td>Senior</td>\n",
        "        <td>1</td>\n",
        "    </tr>\n",
        "    <tr>\n",
        "        <td>138</td>\n",
        "        <td>14</td>\n",
        "        <td>Senior</td>\n",
        "        <td>1</td>\n",
        "    </tr>\n",
        "    <tr>\n",
        "        <td>15</td>\n",
        "        <td>15</td>\n",
        "        <td>Junior</td>\n",
        "        <td>1</td>\n",
        "    </tr>\n",
        "    <tr>\n",
        "        <td>138</td>\n",
        "        <td>16</td>\n",
        "        <td>Senior</td>\n",
        "        <td>4</td>\n",
        "    </tr>\n",
        "    <tr>\n",
        "        <td>45</td>\n",
        "        <td>17</td>\n",
        "        <td>Senior</td>\n",
        "        <td>3</td>\n",
        "    </tr>\n",
        "    <tr>\n",
        "        <td>138</td>\n",
        "        <td>18</td>\n",
        "        <td>Senior</td>\n",
        "        <td>1</td>\n",
        "    </tr>\n",
        "    <tr>\n",
        "        <td>138</td>\n",
        "        <td>19</td>\n",
        "        <td>Senior</td>\n",
        "        <td>1</td>\n",
        "    </tr>\n",
        "    <tr>\n",
        "        <td>138</td>\n",
        "        <td>20</td>\n",
        "        <td>Senior</td>\n",
        "        <td>1</td>\n",
        "    </tr>\n",
        "</table>"
       ],
       "metadata": {},
       "output_type": "pyout",
       "prompt_number": 70,
       "text": [
        "[(138, 1, u'Senior', 1),\n",
        " (138, 2, u'Senior', 1),\n",
        " (138, 3, u'Senior', 1),\n",
        " (138, 4, u'Senior', 4),\n",
        " (138, 5, u'Senior', 2),\n",
        " (138, 6, u'Senior', 1),\n",
        " (138, 7, u'Senior', 1),\n",
        " (138, 8, u'Senior', 1),\n",
        " (138, 9, u'Senior', 1),\n",
        " (138, 10, u'Senior', 1),\n",
        " (138, 11, u'Senior', 1),\n",
        " (138, 12, u'Senior', 3),\n",
        " (138, 13, u'Senior', 1),\n",
        " (138, 14, u'Senior', 1),\n",
        " (15, 15, u'Junior', 1),\n",
        " (138, 16, u'Senior', 4),\n",
        " (45, 17, u'Senior', 3),\n",
        " (138, 18, u'Senior', 1),\n",
        " (138, 19, u'Senior', 1),\n",
        " (138, 20, u'Senior', 1)]"
       ]
      }
     ],
     "prompt_number": 70
    },
    {
     "cell_type": "code",
     "collapsed": false,
     "input": [
      "df=pd.read_sql('''SELECT eid,  seniority,  MAX(rno) as rno\n",
      "FROM EmployeeBase \n",
      "JOIN MessageBase ON eid = from_eid \n",
      "JOIN RecipientBase USING(mid)\n",
      "GROUP BY eid, seniority\n",
      "''', conn)"
     ],
     "language": "python",
     "metadata": {},
     "outputs": [],
     "prompt_number": 94
    },
    {
     "cell_type": "code",
     "collapsed": false,
     "input": [
      "df.head()"
     ],
     "language": "python",
     "metadata": {},
     "outputs": [
      {
       "html": [
        "<div style=\"max-height:1000px;max-width:1500px;overflow:auto;\">\n",
        "<table border=\"1\" class=\"dataframe\">\n",
        "  <thead>\n",
        "    <tr style=\"text-align: right;\">\n",
        "      <th></th>\n",
        "      <th>eid</th>\n",
        "      <th>seniority</th>\n",
        "      <th>rno</th>\n",
        "    </tr>\n",
        "  </thead>\n",
        "  <tbody>\n",
        "    <tr>\n",
        "      <th>0</th>\n",
        "      <td> 1</td>\n",
        "      <td> Senior</td>\n",
        "      <td> 5</td>\n",
        "    </tr>\n",
        "    <tr>\n",
        "      <th>1</th>\n",
        "      <td> 2</td>\n",
        "      <td> Senior</td>\n",
        "      <td> 2</td>\n",
        "    </tr>\n",
        "    <tr>\n",
        "      <th>2</th>\n",
        "      <td> 3</td>\n",
        "      <td> Junior</td>\n",
        "      <td> 4</td>\n",
        "    </tr>\n",
        "    <tr>\n",
        "      <th>3</th>\n",
        "      <td> 4</td>\n",
        "      <td> Junior</td>\n",
        "      <td> 6</td>\n",
        "    </tr>\n",
        "    <tr>\n",
        "      <th>4</th>\n",
        "      <td> 5</td>\n",
        "      <td> Junior</td>\n",
        "      <td> 6</td>\n",
        "    </tr>\n",
        "  </tbody>\n",
        "</table>\n",
        "</div>"
       ],
       "metadata": {},
       "output_type": "pyout",
       "prompt_number": 95,
       "text": [
        "   eid seniority  rno\n",
        "0    1    Senior    5\n",
        "1    2    Senior    2\n",
        "2    3    Junior    4\n",
        "3    4    Junior    6\n",
        "4    5    Junior    6"
       ]
      }
     ],
     "prompt_number": 95
    },
    {
     "cell_type": "code",
     "collapsed": false,
     "input": [
      "df.boxplot(column='rno', by='seniority')"
     ],
     "language": "python",
     "metadata": {},
     "outputs": [
      {
       "metadata": {},
       "output_type": "pyout",
       "prompt_number": 93,
       "text": [
        "<matplotlib.axes._subplots.AxesSubplot at 0x10e6fd190>"
       ]
      },
      {
       "metadata": {},
       "output_type": "display_data",
       "png": "[encoded data removed]",
       "text": [
        "<matplotlib.figure.Figure at 0x10e4bd4d0>"
       ]
      }
     ],
     "prompt_number": 93
    },
    {
     "cell_type": "code",
     "collapsed": false,
     "input": [],
     "language": "python",
     "metadata": {},
     "outputs": []
    }
   ],
   "metadata": {}
  }
 ]
}