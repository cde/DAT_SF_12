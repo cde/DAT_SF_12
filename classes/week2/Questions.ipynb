{
 "metadata": {
  "name": "",
  "signature": "sha256:42096368659284fd6c9380c9c80dc56ce7cc5bc81bf5ee1937de9e3a9ef07293"
 },
 "nbformat": 3,
 "nbformat_minor": 0,
 "worksheets": [
  {
   "cells": [
    {
     "cell_type": "code",
     "collapsed": false,
     "input": [
      "#What does next_results[1:]\n",
      "# is this https://docs.python.org/2.3/whatsnew/section-slices.html\n",
      "next_results = search_results['search_metadata'].get('next_results')\n",
      "dict([kv.split('=') for kv in next_results[1:].split(\"&\")])\n",
      "\n",
      "# Why we are not using set() here, why we are using dict \n",
      "# dict([kv.split('=') for kv in next_results[1:].split(\"&\")])\n",
      "    "
     ],
     "language": "python",
     "metadata": {},
     "outputs": []
    }
   ],
   "metadata": {}
  }
 ]
}